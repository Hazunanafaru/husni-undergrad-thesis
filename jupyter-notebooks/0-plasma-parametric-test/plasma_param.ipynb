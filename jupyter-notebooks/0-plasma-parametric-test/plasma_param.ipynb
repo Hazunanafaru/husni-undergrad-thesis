{
 "cells": [
  {
   "cell_type": "code",
   "execution_count": 1,
   "id": "d1c92126-6aab-49a7-ad49-e812c2eb3518",
   "metadata": {},
   "outputs": [],
   "source": [
    "\"\"\"\n",
    "OpenMC Plasma Source example.\n",
    "An example of how to generate a settings file containing the parameterised\n",
    "plasma source sampling library and how to generate the parameterisation in the\n",
    "OpenMC settings.xml file.\n",
    "\"\"\"\n",
    "\n",
    "from parametric_plasma_source import PlasmaSource, SOURCE_SAMPLING_PATH\n",
    "import openmc\n",
    "\n",
    "my_plasma = PlasmaSource(\n",
    "    elongation=1.557,\n",
    "    ion_density_origin=1.09e20,\n",
    "    ion_density_peaking_factor=1,\n",
    "    ion_density_pedestal=1.09e20,\n",
    "    ion_density_separatrix=3e19,\n",
    "    ion_temperature_origin=45.9,\n",
    "    ion_temperature_peaking_factor=8.06,\n",
    "    ion_temperature_pedestal=6.09,\n",
    "    ion_temperature_separatrix=0.1,\n",
    "    major_radius=906.0,\n",
    "    minor_radius=292.258,\n",
    "    pedestal_radius=0.8 * 292.258,\n",
    "    plasma_id=1,\n",
    "    shafranov_shift=0.44789,\n",
    "    triangularity=0.270,\n",
    "    ion_temperature_beta=6\n",
    ")"
   ]
  },
  {
   "cell_type": "code",
   "execution_count": 2,
   "id": "b8bf3c84-30da-4aeb-9da3-c0e0b14bc2f0",
   "metadata": {},
   "outputs": [],
   "source": [
    "# Create a single material\n",
    "iron = openmc.Material()\n",
    "iron.set_density(\"g/cm3\", 5.0)\n",
    "iron.add_element(\"Fe\", 1.0)\n",
    "mats = openmc.Materials([iron])"
   ]
  },
  {
   "cell_type": "code",
   "execution_count": 3,
   "id": "e711c1e1-ce17-4f30-8e9b-f93b6828ad22",
   "metadata": {},
   "outputs": [],
   "source": [
    "# Create a 5 cm x 5 cm box filled with iron\n",
    "cells = []\n",
    "inner_box1 = openmc.ZCylinder(r=600.0)\n",
    "inner_box2 = openmc.ZCylinder(r=1400.0)\n",
    "outer_box = openmc.model.rectangular_prism(4000.0, 4000.0, boundary_type=\"vacuum\")\n",
    "cells += [openmc.Cell(fill=iron, region=-inner_box1)]\n",
    "cells += [openmc.Cell(fill=None, region=+inner_box1 & -inner_box2)]\n",
    "cells += [openmc.Cell(fill=iron, region=+inner_box2 & outer_box)]\n",
    "geometry = openmc.Geometry(cells)"
   ]
  },
  {
   "cell_type": "code",
   "execution_count": 4,
   "id": "210702dc-bb16-425d-b7df-13bfcdf56f57",
   "metadata": {},
   "outputs": [],
   "source": [
    "# Tell OpenMC we're going to use our custom source\n",
    "settings = openmc.Settings()\n",
    "settings.run_mode = \"fixed source\"\n",
    "settings.batches = 10\n",
    "settings.particles = 1000\n",
    "source = openmc.Source()\n",
    "source.library = SOURCE_SAMPLING_PATH\n",
    "source.parameters = str(my_plasma)\n",
    "settings.source = source"
   ]
  },
  {
   "cell_type": "code",
   "execution_count": 5,
   "id": "6a43ac0e-abb6-484b-a54e-76cb5b044119",
   "metadata": {},
   "outputs": [],
   "source": [
    "# Finally, define a mesh tally so that we can see the resulting flux\n",
    "mesh = openmc.RegularMesh()\n",
    "mesh.lower_left = (-2000.0, -2000.0)\n",
    "mesh.upper_right = (2000.0, 2000.0)\n",
    "mesh.dimension = (50, 50)"
   ]
  },
  {
   "cell_type": "code",
   "execution_count": 6,
   "id": "1ab27b2f-1c4b-4737-9e86-62bf37829ba7",
   "metadata": {},
   "outputs": [],
   "source": [
    "tally = openmc.Tally()\n",
    "tally.filters = [openmc.MeshFilter(mesh)]\n",
    "tally.scores = [\"flux\"]\n",
    "tallies = openmc.Tallies([tally])"
   ]
  },
  {
   "cell_type": "code",
   "execution_count": 7,
   "id": "ac92d3be-1aee-4a14-afd0-ae043cb76e95",
   "metadata": {},
   "outputs": [
    {
     "name": "stdout",
     "output_type": "stream",
     "text": [
      "                                %%%%%%%%%%%%%%%\n",
      "                           %%%%%%%%%%%%%%%%%%%%%%%%\n",
      "                        %%%%%%%%%%%%%%%%%%%%%%%%%%%%%%\n",
      "                      %%%%%%%%%%%%%%%%%%%%%%%%%%%%%%%%%%\n",
      "                    %%%%%%%%%%%%%%%%%%%%%%%%%%%%%%%%%%%%%%\n",
      "                   %%%%%%%%%%%%%%%%%%%%%%%%%%%%%%%%%%%%%%%%\n",
      "                                    %%%%%%%%%%%%%%%%%%%%%%%%\n",
      "                                     %%%%%%%%%%%%%%%%%%%%%%%%\n",
      "                 ###############      %%%%%%%%%%%%%%%%%%%%%%%%\n",
      "                ##################     %%%%%%%%%%%%%%%%%%%%%%%\n",
      "                ###################     %%%%%%%%%%%%%%%%%%%%%%%\n",
      "                ####################     %%%%%%%%%%%%%%%%%%%%%%\n",
      "                #####################     %%%%%%%%%%%%%%%%%%%%%\n",
      "                ######################     %%%%%%%%%%%%%%%%%%%%\n",
      "                #######################     %%%%%%%%%%%%%%%%%%\n",
      "                 #######################     %%%%%%%%%%%%%%%%%\n",
      "                 ######################     %%%%%%%%%%%%%%%%%\n",
      "                  ####################     %%%%%%%%%%%%%%%%%\n",
      "                    #################     %%%%%%%%%%%%%%%%%\n",
      "                     ###############     %%%%%%%%%%%%%%%%\n",
      "                       ############     %%%%%%%%%%%%%%%\n",
      "                          ########     %%%%%%%%%%%%%%\n",
      "                                      %%%%%%%%%%%\n",
      "\n",
      "                   | The OpenMC Monte Carlo Code\n",
      "         Copyright | 2011-2021 MIT and OpenMC contributors\n",
      "           License | https://docs.openmc.org/en/latest/license.html\n",
      "           Version | 0.13.0-dev\n",
      "          Git SHA1 | 5c06e33b6bb041294b27dd248c7693d9063b8a96\n",
      "         Date/Time | 2021-08-03 07:23:58\n",
      "    OpenMP Threads | 8\n",
      "\n",
      " Reading settings XML file...\n",
      "terminate called after throwing an instance of 'std::invalid_argument'\n",
      "  what():  stod\n"
     ]
    },
    {
     "ename": "RuntimeError",
     "evalue": "stod",
     "output_type": "error",
     "traceback": [
      "\u001b[0;31m---------------------------------------------------------------------------\u001b[0m",
      "\u001b[0;31mRuntimeError\u001b[0m                              Traceback (most recent call last)",
      "\u001b[0;32m<ipython-input-7-dbf1cfa89232>\u001b[0m in \u001b[0;36m<module>\u001b[0;34m\u001b[0m\n\u001b[1;32m      3\u001b[0m )\n\u001b[1;32m      4\u001b[0m \u001b[0;34m\u001b[0m\u001b[0m\n\u001b[0;32m----> 5\u001b[0;31m \u001b[0mmodel\u001b[0m\u001b[0;34m.\u001b[0m\u001b[0mrun\u001b[0m\u001b[0;34m(\u001b[0m\u001b[0;34m)\u001b[0m\u001b[0;34m\u001b[0m\u001b[0;34m\u001b[0m\u001b[0m\n\u001b[0m",
      "\u001b[0;32m~/miniconda3/lib/python3.8/site-packages/openmc/model/model.py\u001b[0m in \u001b[0;36mrun\u001b[0;34m(self, **kwargs)\u001b[0m\n\u001b[1;32m    297\u001b[0m         \u001b[0mlast_statepoint\u001b[0m \u001b[0;34m=\u001b[0m \u001b[0;32mNone\u001b[0m\u001b[0;34m\u001b[0m\u001b[0;34m\u001b[0m\u001b[0m\n\u001b[1;32m    298\u001b[0m \u001b[0;34m\u001b[0m\u001b[0m\n\u001b[0;32m--> 299\u001b[0;31m         \u001b[0mopenmc\u001b[0m\u001b[0;34m.\u001b[0m\u001b[0mrun\u001b[0m\u001b[0;34m(\u001b[0m\u001b[0;34m**\u001b[0m\u001b[0mkwargs\u001b[0m\u001b[0;34m)\u001b[0m\u001b[0;34m\u001b[0m\u001b[0;34m\u001b[0m\u001b[0m\n\u001b[0m\u001b[1;32m    300\u001b[0m \u001b[0;34m\u001b[0m\u001b[0m\n\u001b[1;32m    301\u001b[0m         \u001b[0;31m# Get output directory and return the last statepoint written by this run\u001b[0m\u001b[0;34m\u001b[0m\u001b[0;34m\u001b[0m\u001b[0;34m\u001b[0m\u001b[0m\n",
      "\u001b[0;32m~/miniconda3/lib/python3.8/site-packages/openmc/executor.py\u001b[0m in \u001b[0;36mrun\u001b[0;34m(particles, threads, geometry_debug, restart_file, tracks, output, cwd, openmc_exec, mpi_args, event_based)\u001b[0m\n\u001b[1;32m    225\u001b[0m         \u001b[0margs\u001b[0m \u001b[0;34m=\u001b[0m \u001b[0mmpi_args\u001b[0m \u001b[0;34m+\u001b[0m \u001b[0margs\u001b[0m\u001b[0;34m\u001b[0m\u001b[0;34m\u001b[0m\u001b[0m\n\u001b[1;32m    226\u001b[0m \u001b[0;34m\u001b[0m\u001b[0m\n\u001b[0;32m--> 227\u001b[0;31m     \u001b[0m_run\u001b[0m\u001b[0;34m(\u001b[0m\u001b[0margs\u001b[0m\u001b[0;34m,\u001b[0m \u001b[0moutput\u001b[0m\u001b[0;34m,\u001b[0m \u001b[0mcwd\u001b[0m\u001b[0;34m)\u001b[0m\u001b[0;34m\u001b[0m\u001b[0;34m\u001b[0m\u001b[0m\n\u001b[0m",
      "\u001b[0;32m~/miniconda3/lib/python3.8/site-packages/openmc/executor.py\u001b[0m in \u001b[0;36m_run\u001b[0;34m(args, output, cwd)\u001b[0m\n\u001b[1;32m     36\u001b[0m         \u001b[0merror_msg\u001b[0m \u001b[0;34m=\u001b[0m \u001b[0;34m' '\u001b[0m\u001b[0;34m.\u001b[0m\u001b[0mjoin\u001b[0m\u001b[0;34m(\u001b[0m\u001b[0merror_msg\u001b[0m\u001b[0;34m.\u001b[0m\u001b[0msplit\u001b[0m\u001b[0;34m(\u001b[0m\u001b[0;34m)\u001b[0m\u001b[0;34m)\u001b[0m\u001b[0;34m\u001b[0m\u001b[0;34m\u001b[0m\u001b[0m\n\u001b[1;32m     37\u001b[0m \u001b[0;34m\u001b[0m\u001b[0m\n\u001b[0;32m---> 38\u001b[0;31m         \u001b[0;32mraise\u001b[0m \u001b[0mRuntimeError\u001b[0m\u001b[0;34m(\u001b[0m\u001b[0merror_msg\u001b[0m\u001b[0;34m)\u001b[0m\u001b[0;34m\u001b[0m\u001b[0;34m\u001b[0m\u001b[0m\n\u001b[0m\u001b[1;32m     39\u001b[0m \u001b[0;34m\u001b[0m\u001b[0m\n\u001b[1;32m     40\u001b[0m \u001b[0;34m\u001b[0m\u001b[0m\n",
      "\u001b[0;31mRuntimeError\u001b[0m: stod"
     ]
    }
   ],
   "source": [
    "model = openmc.model.Model(\n",
    "    materials=mats, geometry=geometry, settings=settings, tallies=tallies\n",
    ")\n",
    "\n",
    "model.run()"
   ]
  },
  {
   "cell_type": "code",
   "execution_count": null,
   "id": "bdcd154f-0a80-42d9-b658-e93347bfe89d",
   "metadata": {},
   "outputs": [],
   "source": []
  }
 ],
 "metadata": {
  "kernelspec": {
   "display_name": "base",
   "language": "python",
   "name": "base"
  },
  "language_info": {
   "codemirror_mode": {
    "name": "ipython",
    "version": 3
   },
   "file_extension": ".py",
   "mimetype": "text/x-python",
   "name": "python",
   "nbconvert_exporter": "python",
   "pygments_lexer": "ipython3",
   "version": "3.8.10"
  }
 },
 "nbformat": 4,
 "nbformat_minor": 5
}
