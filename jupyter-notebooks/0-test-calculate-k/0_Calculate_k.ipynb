{
 "cells": [
  {
   "cell_type": "code",
   "execution_count": 1,
   "id": "1213da99-0eb5-4c2f-a70d-13a45419aef0",
   "metadata": {},
   "outputs": [],
   "source": [
    "import urllib.request\n",
    "\n",
    "fuel_pin_url = 'https://tinyurl.com/y3ugwz6w' # 1.2 MB\n",
    "teapot_url = 'https://tinyurl.com/y4mcmc3u' # 29 MB\n",
    "\n",
    "def download(url):\n",
    "    \"\"\"\n",
    "    Helper function for retrieving dagmc models\n",
    "    \"\"\"\n",
    "    u = urllib.request.urlopen(url)\n",
    "\n",
    "    if u.status != 200:\n",
    "        raise RuntimeError(\"Failed to download file.\")\n",
    "\n",
    "    # save file as dagmc.h5m\n",
    "    with open(\"dagmc.h5m\", 'wb') as f:\n",
    "        f.write(u.read())"
   ]
  },
  {
   "cell_type": "code",
   "execution_count": 2,
   "id": "ff569841-1179-4d2a-b64c-c7f16d38013f",
   "metadata": {},
   "outputs": [],
   "source": [
    "%matplotlib inline\n",
    "from IPython.display import Image\n",
    "import openmc"
   ]
  },
  {
   "cell_type": "code",
   "execution_count": 3,
   "id": "8600a53c-9823-434a-bfda-0f1b66ec23c2",
   "metadata": {},
   "outputs": [],
   "source": [
    "# materials\n",
    "u235 = openmc.Material(name=\"fuel\")\n",
    "u235.add_nuclide('U235', 1.0, 'ao')\n",
    "u235.set_density('g/cc', 11)\n",
    "u235.id = 40\n",
    "\n",
    "water = openmc.Material(name=\"water\")\n",
    "water.add_nuclide('H1', 2.0, 'ao')\n",
    "water.add_nuclide('O16', 1.0, 'ao')\n",
    "water.set_density('g/cc', 1.0)\n",
    "water.add_s_alpha_beta('c_H_in_H2O')\n",
    "water.id = 41\n",
    "\n",
    "mats = openmc.Materials([u235, water])\n",
    "mats.export_to_xml()"
   ]
  },
  {
   "cell_type": "code",
   "execution_count": 15,
   "id": "595eb5b8-2959-4d2b-a5c0-6d918b4b70ad",
   "metadata": {},
   "outputs": [
    {
     "name": "stdout",
     "output_type": "stream",
     "text": [
      "[Material\n",
      "\tID             =\t40\n",
      "\tName           =\tfuel\n",
      "\tTemperature    =\tNone\n",
      "\tDensity        =\t11 [g/cc]\n",
      "\tS(a,b) Tables  \n",
      "\tNuclides       \n",
      "\tU235           =\t1.0          [ao]\n",
      ", Material\n",
      "\tID             =\t41\n",
      "\tName           =\twater\n",
      "\tTemperature    =\tNone\n",
      "\tDensity        =\t1.0 [g/cc]\n",
      "\tS(a,b) Tables  \n",
      "\tS(a,b)         =\t('c_H_in_H2O', 1.0)\n",
      "\tNuclides       \n",
      "\tH1             =\t2.0          [ao]\n",
      "\tO16            =\t1.0          [ao]\n",
      "]\n"
     ]
    }
   ],
   "source": [
    "print(mats)"
   ]
  },
  {
   "cell_type": "code",
   "execution_count": null,
   "id": "d8cc306b-d66e-4416-921d-83be7e6e50a6",
   "metadata": {},
   "outputs": [],
   "source": [
    "Image(\"./images/cylinder_mesh.png\", width=350)"
   ]
  },
  {
   "cell_type": "code",
   "execution_count": 5,
   "id": "52d4050d-17fa-4385-9444-29d017f0a6e3",
   "metadata": {},
   "outputs": [],
   "source": [
    "download(fuel_pin_url)"
   ]
  },
  {
   "cell_type": "code",
   "execution_count": 11,
   "id": "408d89f5-920f-4da6-8e97-70e180abb795",
   "metadata": {},
   "outputs": [],
   "source": [
    "dag_universe = openmc.DAGMCUniverse(filename=\"dagmc.h5m\")\n",
    "geom = openmc.Geometry(root=dag_universe)\n",
    "geom.export_to_xml()"
   ]
  },
  {
   "cell_type": "code",
   "execution_count": 18,
   "id": "8d24145f-9f75-498e-8941-00760f461702",
   "metadata": {},
   "outputs": [],
   "source": [
    "settings = openmc.Settings()\n",
    "settings.dagmc = True\n",
    "settings.batches = 30\n",
    "settings.inactive = 5\n",
    "settings.particles = 5000\n",
    "settings.export_to_xml()"
   ]
  },
  {
   "cell_type": "code",
   "execution_count": 20,
   "id": "17faa1a0-d118-4fc4-92a5-19883522fccd",
   "metadata": {
    "tags": []
   },
   "outputs": [
    {
     "data": {
      "image/png": "[encoded data removed]",
      "text/plain": [
       "<IPython.core.display.Image object>"
      ]
     },
     "metadata": {},
     "output_type": "display_data"
    }
   ],
   "source": [
    "p = openmc.Plot()\n",
    "p.width = (25.0, 25.0)\n",
    "p.pixels = (400, 400)\n",
    "p.color_by = 'material'\n",
    "p.colors = {u235: 'yellow', water: 'blue'}\n",
    "openmc.plot_inline(p)"
   ]
  },
  {
   "cell_type": "code",
   "execution_count": 8,
   "id": "0dabbeb2-b44b-4bcf-bbc6-365d8dfb1798",
   "metadata": {},
   "outputs": [],
   "source": [
    "settings.source = openmc.Source(space=openmc.stats.Box([-4., -4., -4.],\n",
    "                                                       [ 4.,  4.,  4.]))\n",
    "settings.export_to_xml()"
   ]
  },
  {
   "cell_type": "code",
   "execution_count": 9,
   "id": "ffaeb66b-4b5b-4d54-a9ab-2215d3be4c65",
   "metadata": {},
   "outputs": [],
   "source": [
    "tally = openmc.Tally()\n",
    "tally.scores = ['total']\n",
    "tally.filters = [openmc.CellFilter(1)]\n",
    "tallies = openmc.Tallies([tally])\n",
    "tallies.export_to_xml()"
   ]
  },
  {
   "cell_type": "code",
   "execution_count": 19,
   "id": "672909a5-00e8-46de-8a1d-f6a78c9a5510",
   "metadata": {},
   "outputs": [
    {
     "name": "stdout",
     "output_type": "stream",
     "text": [
      "                                %%%%%%%%%%%%%%%\n",
      "                           %%%%%%%%%%%%%%%%%%%%%%%%\n",
      "                        %%%%%%%%%%%%%%%%%%%%%%%%%%%%%%\n",
      "                      %%%%%%%%%%%%%%%%%%%%%%%%%%%%%%%%%%\n",
      "                    %%%%%%%%%%%%%%%%%%%%%%%%%%%%%%%%%%%%%%\n",
      "                   %%%%%%%%%%%%%%%%%%%%%%%%%%%%%%%%%%%%%%%%\n",
      "                                    %%%%%%%%%%%%%%%%%%%%%%%%\n",
      "                                     %%%%%%%%%%%%%%%%%%%%%%%%\n",
      "                 ###############      %%%%%%%%%%%%%%%%%%%%%%%%\n",
      "                ##################     %%%%%%%%%%%%%%%%%%%%%%%\n",
      "                ###################     %%%%%%%%%%%%%%%%%%%%%%%\n",
      "                ####################     %%%%%%%%%%%%%%%%%%%%%%\n",
      "                #####################     %%%%%%%%%%%%%%%%%%%%%\n",
      "                ######################     %%%%%%%%%%%%%%%%%%%%\n",
      "                #######################     %%%%%%%%%%%%%%%%%%\n",
      "                 #######################     %%%%%%%%%%%%%%%%%\n",
      "                 ######################     %%%%%%%%%%%%%%%%%\n",
      "                  ####################     %%%%%%%%%%%%%%%%%\n",
      "                    #################     %%%%%%%%%%%%%%%%%\n",
      "                     ###############     %%%%%%%%%%%%%%%%\n",
      "                       ############     %%%%%%%%%%%%%%%\n",
      "                          ########     %%%%%%%%%%%%%%\n",
      "                                      %%%%%%%%%%%\n",
      "\n",
      "                   | The OpenMC Monte Carlo Code\n",
      "         Copyright | 2011-2021 MIT and OpenMC contributors\n",
      "           License | https://docs.openmc.org/en/latest/license.html\n",
      "           Version | 0.13.0-dev\n",
      "          Git SHA1 | 5c06e33b6bb041294b27dd248c7693d9063b8a96\n",
      "         Date/Time | 2021-08-17 13:29:49\n",
      "    OpenMP Threads | 4\n",
      "\n",
      " Reading settings XML file...\n",
      " Reading cross sections XML file...\n",
      " Reading materials XML file...\n",
      " Reading geometry XML file...\n",
      "Set overlap thickness = 0\n",
      "Set numerical precision = 0.001\n",
      "Loading file dagmc.h5m\n",
      "Initializing the GeomQueryTool...\n",
      "Using faceting tolerance: 0.0001\n",
      "Building acceleration data structures...\n",
      "Implicit Complement assumed to be Vacuum\n",
      " Reading U235 from /home/husninaufalz/ND/endfb80_hdf5/U235.h5\n",
      " Reading H1 from /home/husninaufalz/ND/endfb80_hdf5/H1.h5\n",
      " Reading O16 from /home/husninaufalz/ND/endfb80_hdf5/O16.h5\n",
      " Reading c_H_in_H2O from /home/husninaufalz/ND/endfb80_hdf5/c_H_in_H2O.h5\n",
      " Minimum neutron data temperature: 294.0 K\n",
      " Maximum neutron data temperature: 294.0 K\n",
      " Reading tallies XML file...\n",
      " Preparing distributed cell instances...\n",
      " Writing summary.h5 file...\n",
      " Maximum neutron transport energy: 20000000.0 eV for H1\n",
      " Initializing source particles...\n",
      "\n",
      " ====================>     K EIGENVALUE SIMULATION     <====================\n",
      "\n",
      "  Bat./Gen.      k            Average k\n",
      "  =========   ========   ====================\n",
      "        1/1    1.23079\n",
      "        2/1    1.09381\n",
      "        3/1    1.00102\n",
      "        4/1    1.00886\n",
      "        5/1    0.97848\n",
      "        6/1    0.96146\n",
      "        7/1    0.94922    0.95534 +/- 0.00612\n",
      "        8/1    0.94891    0.95320 +/- 0.00413\n",
      "        9/1    0.96650    0.95652 +/- 0.00443\n",
      "       10/1    0.96782    0.95878 +/- 0.00411\n",
      "       11/1    0.96155    0.95924 +/- 0.00339\n",
      "       12/1    0.95574    0.95874 +/- 0.00290\n",
      "       13/1    0.95779    0.95862 +/- 0.00252\n",
      "       14/1    0.93240    0.95571 +/- 0.00366\n",
      "       15/1    0.93937    0.95408 +/- 0.00366\n",
      "       16/1    0.94362    0.95313 +/- 0.00345\n",
      "       17/1    0.92572    0.95084 +/- 0.00389\n",
      "       18/1    0.94764    0.95060 +/- 0.00358\n",
      "       19/1    0.95521    0.95093 +/- 0.00333\n",
      "       20/1    0.96126    0.95161 +/- 0.00318\n",
      "       21/1    0.95983    0.95213 +/- 0.00302\n",
      "       22/1    0.95614    0.95236 +/- 0.00285\n",
      "       23/1    0.94369    0.95188 +/- 0.00273\n",
      "       24/1    0.95127    0.95185 +/- 0.00258\n",
      "       25/1    0.93826    0.95117 +/- 0.00254\n",
      "       26/1    0.96340    0.95175 +/- 0.00248\n",
      "       27/1    0.96161    0.95220 +/- 0.00241\n",
      "       28/1    0.93991    0.95167 +/- 0.00236\n",
      "       29/1    0.97062    0.95246 +/- 0.00240\n",
      "       30/1    0.95351    0.95250 +/- 0.00230\n",
      " Creating state point statepoint.30.h5...\n",
      "\n",
      " =======================>     TIMING STATISTICS     <=======================\n",
      "\n",
      " Total time for initialization     = 5.0565e+00 seconds\n",
      "   Reading cross sections          = 5.5809e-01 seconds\n",
      " Total time in simulation          = 1.6366e+02 seconds\n",
      "   Time in transport only          = 1.6360e+02 seconds\n",
      "   Time in inactive batches        = 2.9894e+01 seconds\n",
      "   Time in active batches          = 1.3377e+02 seconds\n",
      "   Time synchronizing fission bank = 1.1680e-02 seconds\n",
      "     Sampling source sites         = 9.6075e-03 seconds\n",
      "     SEND/RECV source sites        = 2.0383e-03 seconds\n",
      "   Time accumulating tallies       = 3.1269e-02 seconds\n",
      "   Time writing statepoints        = 4.3508e-03 seconds\n",
      " Total time for finalization       = 1.3503e-04 seconds\n",
      " Total time elapsed                = 1.6949e+02 seconds\n",
      " Calculation Rate (inactive)       = 836.292 particles/second\n",
      " Calculation Rate (active)         = 934.470 particles/second\n",
      "\n",
      " ============================>     RESULTS     <============================\n",
      "\n",
      " k-effective (Collision)     = 0.95348 +/- 0.00328\n",
      " k-effective (Track-length)  = 0.95250 +/- 0.00230\n",
      " k-effective (Absorption)    = 0.95654 +/- 0.00345\n",
      " Combined k-effective        = 0.95345 +/- 0.00230\n",
      " Leakage Fraction            = 0.57903 +/- 0.00148\n",
      "\n"
     ]
    }
   ],
   "source": [
    "openmc.run()"
   ]
  },
  {
   "cell_type": "code",
   "execution_count": null,
   "id": "349e3773-6cc4-41d9-a16e-a317e3a36065",
   "metadata": {},
   "outputs": [],
   "source": []
  }
 ],
 "metadata": {
  "kernelspec": {
   "display_name": "base",
   "language": "python",
   "name": "base"
  },
  "language_info": {
   "codemirror_mode": {
    "name": "ipython",
    "version": 3
   },
   "file_extension": ".py",
   "mimetype": "text/x-python",
   "name": "python",
   "nbconvert_exporter": "python",
   "pygments_lexer": "ipython3",
   "version": "3.8.10"
  }
 },
 "nbformat": 4,
 "nbformat_minor": 5
}
