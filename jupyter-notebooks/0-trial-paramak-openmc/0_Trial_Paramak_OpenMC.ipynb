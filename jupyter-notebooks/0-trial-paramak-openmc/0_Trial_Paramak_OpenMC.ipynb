{
 "cells": [
  {
   "cell_type": "markdown",
   "id": "49036c1a",
   "metadata": {
    "tags": []
   },
   "source": [
    "# Try Paramak and OpenMC\n",
    "\n",
    "Name : Husni Naufal Zuhdi (413821)"
   ]
  },
  {
   "cell_type": "code",
   "execution_count": 1,
   "id": "c0f37335",
   "metadata": {},
   "outputs": [
    {
     "name": "stdout",
     "output_type": "stream",
     "text": [
      "Overwriting auto display for cadquery Workplane and Shape\n"
     ]
    }
   ],
   "source": [
    "# Impor semua paket yang diperlukan\n",
    "import pandas as pd\n",
    "import numpy as np\n",
    "import matplotlib.pyplot as plt\n",
    "\n",
    "import openmc\n",
    "import paramak\n",
    "import paramak_neutronics as nparamak\n",
    "import neutronics_material_maker as nmm\n",
    "\n",
    "from jupyter_cadquery.cadquery import (PartGroup, Part, Edges, Faces, Vertices, show)\n",
    "from jupyter_cadquery import set_sidecar, set_defaults, reset_defaults"
   ]
  },
  {
   "cell_type": "code",
   "execution_count": 2,
   "id": "52c9c146",
   "metadata": {},
   "outputs": [
    {
     "data": {
      "application/vnd.jupyter.widget-view+json": {
       "model_id": "b89290c438534dafa34ce11ec455a29a",
       "version_major": 2,
       "version_minor": 0
      },
      "text/plain": [
       "HBox(children=(VBox(children=(HBox(children=(Checkbox(value=False, description='Axes', indent=False, _dom_clas…"
      ]
     },
     "metadata": {},
     "output_type": "display_data"
    },
    {
     "data": {
      "text/html": [
       "<style>\n",
       ".scroll-area {\n",
       "    overflow: scroll !important;\n",
       "    border: unset !important;\n",
       "}\n",
       "\n",
       ".mac-scrollbar::-webkit-scrollbar {\n",
       "    width: 5px !important;\n",
       "    height: 5px !important;\n",
       "}\n",
       "\n",
       ".mac-scrollbar::-webkit-scrollbar-track {\n",
       "    background-color: transparent !important;\n",
       "}\n",
       "\n",
       ".mac-scrollbar .widget-html-content {\n",
       "    overflow-x: visible;\n",
       "    overflow-y: visible;\n",
       "}\n",
       "\n",
       ".tab-content-no-padding .widget-tab-contents {\n",
       "    overflow-x: visible !important;\n",
       "    overflow-y: visible !important;\n",
       "    padding-bottom: 0px !important;\n",
       "}\n",
       "\n",
       ".view_renderer {\n",
       "    border: 1px solid var(--jp-border-color1);\n",
       "    margin-top: 3px;\n",
       "    margin-left: 2px;\n",
       "}\n",
       "\n",
       ".view_tree {\n",
       "    padding: 0px !important;\n",
       "}\n",
       "\n",
       ".view_axes {\n",
       "    width: 60px !important;\n",
       "    margin-left: 5px !important;\n",
       "}\n",
       "\n",
       ".view_zero {\n",
       "    width: 55px !important;\n",
       "}\n",
       "\n",
       ".view_grid {\n",
       "    width: 56px !important;\n",
       "}\n",
       "\n",
       ".view_ortho {\n",
       "    width: 64px !important;\n",
       "}\n",
       "\n",
       ".view_transparent {\n",
       "    width: 125px !important;\n",
       "}\n",
       "\n",
       ".view_black_edges {\n",
       "    width: 105px !important;\n",
       "}\n",
       "\n",
       ".view_button {\n",
       "    padding: 0px !important;\n",
       "}\n",
       "\n",
       ".view_button>img {\n",
       "    height: 28px;\n",
       "    width: 36px;\n",
       "}\n",
       "\n",
       ".node_entry_wrap {\n",
       "    white-space: pre;\n",
       "}\n",
       "\n",
       ".node_entry {\n",
       "    white-space: nowrap;\n",
       "    padding-top: 4px;\n",
       "}\n",
       "\n",
       ".t-caret {\n",
       "    cursor: pointer;\n",
       "    -webkit-user-select: none;\n",
       "    /* Safari 3.1+ */\n",
       "    -moz-user-select: none;\n",
       "    /* Firefox 2+ */\n",
       "    -ms-user-select: none;\n",
       "    /* IE 10+ */\n",
       "    user-select: none;\n",
       "}\n",
       "\n",
       ".t-caret-down::before {\n",
       "    -ms-transform: rotate(90deg);\n",
       "    /* IE 9 */\n",
       "    -webkit-transform: rotate(90deg);\n",
       "    /* Safari */\n",
       "    transform: rotate(90deg);\n",
       "}\n",
       "\n",
       ".toplevel {\n",
       "    list-style-type: none;\n",
       "    padding-inline-start: 0px;\n",
       "}\n",
       "\n",
       ".nested {\n",
       "    display: none;\n",
       "    list-style-type: none;\n",
       "    padding-inline-start: 16px;\n",
       "}\n",
       "\n",
       ".active {\n",
       "    display: block;\n",
       "}\n",
       "\n",
       ".icon {\n",
       "    width: 28px !important;\n",
       "    height: 22px !important;\n",
       "    padding-right: 2px;\n",
       "    vertical-align: middle;\n",
       "}\n",
       "\n",
       ".indent {\n",
       "    margin-left: 12px;\n",
       "}\n",
       "\n",
       ".tree_label {\n",
       "    padding-left: 2px;\n",
       "    font-size: 14px;\n",
       "}\n",
       "\n",
       ".scroll_down {\n",
       "    display: flex;\n",
       "    flex-direction: column-reverse;\n",
       "}\n",
       "\n",
       ".small_table {\n",
       "    line-height: 14px;\n",
       "}\n",
       "\n",
       ".monospace select {\n",
       "    font-family: monospace;\n",
       "}\n",
       "\n",
       "        .t-caret::before {\n",
       "            content: u\"▶\";\n",
       "            font-size: 12px;\n",
       "            color: \"#080808\";\n",
       "            display: inline-block;\n",
       "            margin-right: 2px;\n",
       "        }\n",
       "\n",
       "        .mac-scrollbar::-webkit-scrollbar-thumb {\n",
       "            background-color: rgba(0, 0, 0, 0.2) !important;\n",
       "            border-radius: 100px !important;\n",
       "        }\n",
       "\n",
       "        .mac-scrollbar::-webkit-scrollbar-thumb:hover {\n",
       "            background: rgba(0, 0, 0, 0.4) !important;\n",
       "        }\n",
       "\n",
       "        .mac-scrollbar::-webkit-scrollbar-thumb:active {\n",
       "            background: #181818 !important;\n",
       "        }\n",
       "\n",
       "        .mac-scrollbar::-webkit-scrollbar-corner {\n",
       "            background: white;\n",
       "        }\n",
       "\n",
       "        .view_output {\n",
       "            border: 1px solid var(--jp-border-color1);\n",
       "            margin: 2px 2px 2px 2px !important;\n",
       "            padding-right: 1px !important;\n",
       "            background-color: white;\n",
       "        }\n",
       "    </style>"
      ],
      "text/plain": [
       "<IPython.core.display.HTML object>"
      ]
     },
     "metadata": {},
     "output_type": "display_data"
    }
   ],
   "source": [
    "red_part = paramak.ExtrudeMixedShape(\n",
    "    points=[\n",
    "        (-89.0, -50.0, 'straight'),\n",
    "        (-18.0, -50.0, 'straight'),\n",
    "        (30.0, 30.0, 'straight'),\n",
    "        (-12.0, 100.0, 'circle'),\n",
    "        (88.0, -50.0, 'circle'),\n",
    "    ],\n",
    "    distance=10,\n",
    "    color=(1,0,0),\n",
    "    name='red_part',\n",
    "    material_tag='red_part_material',\n",
    "    stp_filename='red_part.stp',\n",
    "    stl_filename='red_part.stl',\n",
    ")\n",
    "red_part.show()"
   ]
  },
  {
   "cell_type": "code",
   "execution_count": 3,
   "id": "aad87db2",
   "metadata": {},
   "outputs": [
    {
     "data": {
      "application/vnd.jupyter.widget-view+json": {
       "model_id": "d0ff9a9302f34d24932d0e5f8d9d7cf4",
       "version_major": 2,
       "version_minor": 0
      },
      "text/plain": [
       "HBox(children=(VBox(children=(HBox(children=(Checkbox(value=False, description='Axes', indent=False, _dom_clas…"
      ]
     },
     "metadata": {},
     "output_type": "display_data"
    }
   ],
   "source": [
    "grey_part = paramak.ExtrudeMixedShape(\n",
    "    points=[\n",
    "        (-96.5, -27.0, 'straight'),\n",
    "        (-30.0, -27.0, 'straight'),\n",
    "        (3.0, 30.0, 'straight'),\n",
    "        (-30.0, 87.0, 'straight'),\n",
    "        (-50.0, 87.0, 'straight'),\n",
    "        (-30.0, 87.0, 'circle'),\n",
    "        (-97.0, 30.0, 'circle'),\n",
    "    ],\n",
    "    distance=10,\n",
    "    color=(0.5,0.5,0.5),\n",
    "    name='grey_part',\n",
    "    material_tag='grey_part_material',\n",
    "    stp_filename='grey_part.stp',\n",
    "    stl_filename='grey_part.stl',\n",
    ")\n",
    "grey_part.show()"
   ]
  },
  {
   "cell_type": "code",
   "execution_count": 4,
   "id": "a4bbd2ae",
   "metadata": {
    "scrolled": true,
    "tags": []
   },
   "outputs": [
    {
     "data": {
      "application/vnd.jupyter.widget-view+json": {
       "model_id": "265d70546b3e41d199d12e5b9749d4dd",
       "version_major": 2,
       "version_minor": 0
      },
      "text/plain": [
       "HBox(children=(VBox(children=(HBox(children=(Checkbox(value=False, description='Axes', indent=False, _dom_clas…"
      ]
     },
     "metadata": {},
     "output_type": "display_data"
    }
   ],
   "source": [
    "both_parts = paramak.Reactor([red_part, grey_part])\n",
    "both_parts.show()"
   ]
  },
  {
   "cell_type": "code",
   "execution_count": 5,
   "id": "36eac7c4",
   "metadata": {},
   "outputs": [
    {
     "name": "stdout",
     "output_type": "stream",
     "text": [
      "Saved file as  graveyard.stl\n"
     ]
    },
    {
     "data": {
      "text/plain": [
       "['red_part.stl', 'grey_part.stl', 'graveyard.stl']"
      ]
     },
     "execution_count": 5,
     "metadata": {},
     "output_type": "execute_result"
    }
   ],
   "source": [
    "# both_parts.export_stl(output_folder='0-trial-paramak-openmc')\n",
    "both_parts.export_stl()"
   ]
  },
  {
   "cell_type": "code",
   "execution_count": 6,
   "id": "eb9bc4f6",
   "metadata": {},
   "outputs": [
    {
     "name": "stdout",
     "output_type": "stream",
     "text": [
      "\u001b[32;1m\n",
      "*******************************************************************\n",
      "******        Statistics on Transfer (Write)                 ******\u001b[0m\n",
      "\u001b[32;1m\n",
      "*******************************************************************\n",
      "******        Transfer Mode = 0  I.E.  As Is       ******\u001b[0m\n",
      "\u001b[32;1m******        Transferring Shape, ShapeType = 0                      ******\u001b[0m\n",
      "\u001b[32;1m** WorkSession : Sending all data\u001b[0m\n",
      "\u001b[32;1m Step File Name : red_part.stp(453 ents)  Write  Done\u001b[0m\n",
      "\u001b[32;1m\n",
      "*******************************************************************\n",
      "******        Statistics on Transfer (Write)                 ******\u001b[0m\n",
      "\u001b[32;1m\n",
      "*******************************************************************\n",
      "******        Transfer Mode = 0  I.E.  As Is       ******\u001b[0m\n",
      "\u001b[32;1m******        Transferring Shape, ShapeType = 0                      ******\u001b[0m\n",
      "\u001b[32;1m** WorkSession : Sending all data\u001b[0m\n",
      "\u001b[32;1m Step File Name : grey_part.stp(461 ents)  Write  Done\u001b[0m\n",
      "Saved file as \u001b[32;1m\n",
      "*******************************************************************\n",
      "******        Statistics on Transfer (Write)                 ******\u001b[0m\n",
      "\u001b[32;1m\n",
      "*******************************************************************\n",
      "******        Transfer Mode = 0  I.E.  As Is       ******\u001b[0m\n",
      "\u001b[32;1m******        Transferring Shape, ShapeType = 0                      ******\u001b[0m\n",
      " graveyard.stp\n"
     ]
    },
    {
     "data": {
      "text/plain": [
       "['red_part.stp', 'grey_part.stp', 'graveyard.stp']"
      ]
     },
     "execution_count": 6,
     "metadata": {},
     "output_type": "execute_result"
    },
    {
     "name": "stdout",
     "output_type": "stream",
     "text": [
      "\u001b[32;1m** WorkSession : Sending all data\u001b[0m\n",
      "\u001b[32;1m Step File Name : graveyard.stp(781 ents)  Write  Done\u001b[0m\n"
     ]
    }
   ],
   "source": [
    "# both_parts.export_stp(output_folder='0-trial-paramak-openmc')\n",
    "both_parts.export_stp()"
   ]
  },
  {
   "cell_type": "code",
   "execution_count": 7,
   "id": "57782227",
   "metadata": {},
   "outputs": [],
   "source": [
    "source = openmc.Source()\n",
    "source.space = openmc.stats.Point((0, 50, 0))\n",
    "source.energy = openmc.stats.Discrete([14e6], [1])\n",
    "source.angle = openmc.stats.Isotropic()"
   ]
  },
  {
   "cell_type": "code",
   "execution_count": 10,
   "id": "02f610c7",
   "metadata": {
    "tags": []
   },
   "outputs": [
    {
     "name": "stderr",
     "output_type": "stream",
     "text": [
      "/home/husninaufalz/.local/lib/python3.8/site-packages/openmc/mixin.py:68: IDWarning: Another MeshBase instance already exists with id=1.\n",
      "  warn(msg, IDWarning)\n",
      "/home/husninaufalz/.local/lib/python3.8/site-packages/openmc/mixin.py:68: IDWarning: Another MeshBase instance already exists with id=2.\n",
      "  warn(msg, IDWarning)\n",
      "/home/husninaufalz/.local/lib/python3.8/site-packages/openmc/mixin.py:68: IDWarning: Another MeshBase instance already exists with id=3.\n",
      "  warn(msg, IDWarning)\n",
      "/home/husninaufalz/.local/lib/python3.8/site-packages/openmc/mixin.py:68: IDWarning: Another MeshBase instance already exists with id=4.\n",
      "  warn(msg, IDWarning)\n",
      "/home/husninaufalz/.local/lib/python3.8/site-packages/openmc/mixin.py:68: IDWarning: Another Filter instance already exists with id=39.\n",
      "  warn(msg, IDWarning)\n",
      "/home/husninaufalz/.local/lib/python3.8/site-packages/openmc/mixin.py:68: IDWarning: Another Filter instance already exists with id=41.\n",
      "  warn(msg, IDWarning)\n",
      "/home/husninaufalz/.local/lib/python3.8/site-packages/openmc/mixin.py:68: IDWarning: Another Filter instance already exists with id=42.\n",
      "  warn(msg, IDWarning)\n",
      "/home/husninaufalz/.local/lib/python3.8/site-packages/openmc/mixin.py:68: IDWarning: Another Filter instance already exists with id=43.\n",
      "  warn(msg, IDWarning)\n",
      "/home/husninaufalz/.local/lib/python3.8/site-packages/openmc/mixin.py:68: IDWarning: Another Filter instance already exists with id=47.\n",
      "  warn(msg, IDWarning)\n",
      "/home/husninaufalz/.local/lib/python3.8/site-packages/openmc/mixin.py:68: IDWarning: Another Filter instance already exists with id=48.\n",
      "  warn(msg, IDWarning)\n"
     ]
    },
    {
     "name": "stdout",
     "output_type": "stream",
     "text": [
      "Saved file as  red_part.stl\n",
      "Saved file as  grey_part.stl\n",
      "Saved file as  graveyard.stl\n",
      "                                %%%%%%%%%%%%%%%\n",
      "                           %%%%%%%%%%%%%%%%%%%%%%%%\n",
      "                        %%%%%%%%%%%%%%%%%%%%%%%%%%%%%%\n",
      "                      %%%%%%%%%%%%%%%%%%%%%%%%%%%%%%%%%%\n",
      "                    %%%%%%%%%%%%%%%%%%%%%%%%%%%%%%%%%%%%%%\n",
      "                   %%%%%%%%%%%%%%%%%%%%%%%%%%%%%%%%%%%%%%%%\n",
      "                                    %%%%%%%%%%%%%%%%%%%%%%%%\n",
      "                                     %%%%%%%%%%%%%%%%%%%%%%%%\n",
      "                 ###############      %%%%%%%%%%%%%%%%%%%%%%%%\n",
      "                ##################     %%%%%%%%%%%%%%%%%%%%%%%\n",
      "                ###################     %%%%%%%%%%%%%%%%%%%%%%%\n",
      "                ####################     %%%%%%%%%%%%%%%%%%%%%%\n",
      "                #####################     %%%%%%%%%%%%%%%%%%%%%\n",
      "                ######################     %%%%%%%%%%%%%%%%%%%%\n",
      "                #######################     %%%%%%%%%%%%%%%%%%\n",
      "                 #######################     %%%%%%%%%%%%%%%%%\n",
      "                 ######################     %%%%%%%%%%%%%%%%%\n",
      "                  ####################     %%%%%%%%%%%%%%%%%\n",
      "                    #################     %%%%%%%%%%%%%%%%%\n",
      "                     ###############     %%%%%%%%%%%%%%%%\n",
      "                       ############     %%%%%%%%%%%%%%%\n",
      "                          ########     %%%%%%%%%%%%%%\n",
      "                                      %%%%%%%%%%%\n",
      "\n",
      "                   | The OpenMC Monte Carlo Code\n",
      "         Copyright | 2011-2021 MIT and OpenMC contributors\n",
      "           License | https://docs.openmc.org/en/latest/license.html\n",
      "           Version | 0.13.0-dev\n",
      "          Git SHA1 | 5c06e33b6bb041294b27dd248c7693d9063b8a96\n",
      "         Date/Time | 2021-08-01 13:37:08\n",
      "    OpenMP Threads | 2\n",
      "\n",
      " Reading settings XML file...\n",
      " Reading cross sections XML file...\n",
      " Reading materials XML file...\n",
      " Reading geometry XML file...\n",
      "Set overlap thickness = 0\n",
      "Set numerical precision = 0.001\n",
      "Loading file dagmc.h5m\n",
      "Initializing the GeomQueryTool...\n",
      "Using faceting tolerance: 5.03038e+175\n",
      "Building acceleration data structures...\n",
      "Implicit Complement assumed to be Vacuum\n",
      " Reading Fe56 from /home/husninaufalz/ND/endfb80_hdf5/Fe56.h5\n",
      " Reading Fe from /home/husninaufalz/ND/endfb80_hdf5/photon/Fe.h5 \n",
      " Reading Fe54 from /home/husninaufalz/ND/endfb80_hdf5/Fe54.h5\n",
      " Reading Fe58 from /home/husninaufalz/ND/endfb80_hdf5/Fe58.h5\n",
      " Reading Fe57 from /home/husninaufalz/ND/endfb80_hdf5/Fe57.h5\n",
      " Reading Cr53 from /home/husninaufalz/ND/endfb80_hdf5/Cr53.h5\n",
      " Reading Cr from /home/husninaufalz/ND/endfb80_hdf5/photon/Cr.h5 \n",
      " Reading Cr52 from /home/husninaufalz/ND/endfb80_hdf5/Cr52.h5\n",
      " Reading Cr50 from /home/husninaufalz/ND/endfb80_hdf5/Cr50.h5\n",
      " Reading Cr54 from /home/husninaufalz/ND/endfb80_hdf5/Cr54.h5\n",
      " Reading Mo95 from /home/husninaufalz/ND/endfb80_hdf5/Mo95.h5\n",
      " Reading Mo from /home/husninaufalz/ND/endfb80_hdf5/photon/Mo.h5 \n",
      " Reading Mo98 from /home/husninaufalz/ND/endfb80_hdf5/Mo98.h5\n",
      " Reading Mo100 from /home/husninaufalz/ND/endfb80_hdf5/Mo100.h5\n",
      " Reading Mo96 from /home/husninaufalz/ND/endfb80_hdf5/Mo96.h5\n",
      " Reading Mo92 from /home/husninaufalz/ND/endfb80_hdf5/Mo92.h5\n",
      " Reading Mo97 from /home/husninaufalz/ND/endfb80_hdf5/Mo97.h5\n",
      " Reading Mo94 from /home/husninaufalz/ND/endfb80_hdf5/Mo94.h5\n",
      " Reading Mn55 from /home/husninaufalz/ND/endfb80_hdf5/Mn55.h5\n",
      " Reading Mn from /home/husninaufalz/ND/endfb80_hdf5/photon/Mn.h5 \n",
      " Reading Si29 from /home/husninaufalz/ND/endfb80_hdf5/Si29.h5\n",
      " Reading Si from /home/husninaufalz/ND/endfb80_hdf5/photon/Si.h5 \n",
      " Reading Si30 from /home/husninaufalz/ND/endfb80_hdf5/Si30.h5\n",
      " Reading Si28 from /home/husninaufalz/ND/endfb80_hdf5/Si28.h5\n",
      " Reading Li7 from /home/husninaufalz/ND/endfb80_hdf5/Li7.h5\n",
      " Reading Li from /home/husninaufalz/ND/endfb80_hdf5/photon/Li.h5 \n",
      " Reading Li6 from /home/husninaufalz/ND/endfb80_hdf5/Li6.h5\n",
      " Reading O16 from /home/husninaufalz/ND/endfb80_hdf5/O16.h5\n",
      " Reading O from /home/husninaufalz/ND/endfb80_hdf5/photon/O.h5 \n",
      " Reading O17 from /home/husninaufalz/ND/endfb80_hdf5/O17.h5\n",
      " Reading O18 from /home/husninaufalz/ND/endfb80_hdf5/O18.h5\n",
      " Minimum neutron data temperature: 294.0 K\n",
      " Maximum neutron data temperature: 294.0 K\n",
      " Reading tallies XML file...\n",
      " Preparing distributed cell instances...\n",
      " Writing summary.h5 file...\n",
      " Maximum neutron transport energy: 20000000.0 eV for Mo95\n",
      "\n",
      " ===============>     FIXED SOURCE TRANSPORT SIMULATION     <===============\n",
      "\n",
      " Simulating batch 1\n",
      " Simulating batch 2\n",
      " Simulating batch 3\n",
      " Simulating batch 4\n",
      " Simulating batch 5\n",
      " Simulating batch 6\n",
      " Simulating batch 7\n",
      " Simulating batch 8\n",
      " Simulating batch 9\n",
      " Simulating batch 10\n",
      " Creating state point statepoint.10.h5...\n",
      "\n",
      " =======================>     TIMING STATISTICS     <=======================\n",
      "\n",
      " Total time for initialization     = 2.6296e+00 seconds\n",
      "   Reading cross sections          = 2.4316e+00 seconds\n",
      " Total time in simulation          = 1.1058e+02 seconds\n",
      "   Time in transport only          = 1.1036e+02 seconds\n",
      "   Time in active batches          = 1.1058e+02 seconds\n",
      "   Time accumulating tallies       = 8.4222e-02 seconds\n",
      "   Time writing statepoints        = 1.3677e-01 seconds\n",
      " Total time for finalization       = 5.2228e+00 seconds\n",
      " Total time elapsed                = 1.1859e+02 seconds\n",
      " Calculation Rate (active)         = 90.4296 particles/second\n",
      "\n",
      " ============================>     RESULTS     <============================\n",
      "\n",
      " Leakage Fraction            = 1.21408 +/- 0.00736\n",
      "\n",
      "Writing n-Xt_on_3D_mesh.vtk\n",
      "Writing heating_on_3D_mesh.vtk\n"
     ]
    },
    {
     "data": {
      "text/plain": [
       "PosixPath('/home/husninaufalz/iter-tritium-breeding-xgboost/jupyter-notebooks/statepoint.10.h5')"
      ]
     },
     "execution_count": 10,
     "metadata": {},
     "output_type": "execute_result"
    },
    {
     "data": {
      "image/png": "[encoded data removed]",
      "text/plain": [
       "<Figure size 432x288 with 1 Axes>"
      ]
     },
     "metadata": {
      "needs_background": "light"
     },
     "output_type": "display_data"
    }
   ],
   "source": [
    "my_model = nparamak.NeutronicsModel(\n",
    "    geometry=both_parts,\n",
    "    source=source,\n",
    "    simulation_batches=10,  # this should be increased to get a better mesh tally result\n",
    "    simulation_particles_per_batch=1000,  # this should be increased to get a better mesh tally result\n",
    "    materials = {'red_part_material':'P91', 'grey_part_material':'Li4SiO4'},\n",
    "    mesh_tally_3d=['(n,Xt)','heating'],\n",
    "    mesh_tally_2d=['(n,Xt)','heating'],\n",
    "    cell_tallies=['(n,Xt)','heating', 'spectra'],\n",
    ")\n",
    "\n",
    "my_model.simulate()"
   ]
  },
  {
   "cell_type": "code",
   "execution_count": null,
   "id": "51aaff9d-74d3-4616-b61a-c3e42fd5a91f",
   "metadata": {},
   "outputs": [],
   "source": []
  }
 ],
 "metadata": {
  "kernelspec": {
   "display_name": "base",
   "language": "python",
   "name": "base"
  },
  "language_info": {
   "codemirror_mode": {
    "name": "ipython",
    "version": 3
   },
   "file_extension": ".py",
   "mimetype": "text/x-python",
   "name": "python",
   "nbconvert_exporter": "python",
   "pygments_lexer": "ipython3",
   "version": "3.8.10"
  }
 },
 "nbformat": 4,
 "nbformat_minor": 5
}
