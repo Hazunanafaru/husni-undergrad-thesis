{
 "cells": [
  {
   "cell_type": "markdown",
   "id": "9772ff0c",
   "metadata": {},
   "source": [
    "# ITER TBR Calculation\n",
    "Goal : Build a working ITER TBR Simulation\n",
    "\n",
    "Name : Husni Naufal Zuhdi (413821)"
   ]
  },
  {
   "cell_type": "code",
   "execution_count": 1,
   "id": "2f32809d",
   "metadata": {},
   "outputs": [
    {
     "name": "stdout",
     "output_type": "stream",
     "text": [
      "Overwriting auto display for cadquery Workplane and Shape\n"
     ]
    }
   ],
   "source": [
    "# Import all packages needed\n",
    "# Basic numerical packages\n",
    "import pandas as pd\n",
    "import numpy as np\n",
    "import matplotlib.pyplot as plt\n",
    "\n",
    "# Jupyter Cadquery to see geometry in 3d\n",
    "from jupyter_cadquery.cadquery import (PartGroup, Part, Edges, Faces, Vertices, show)\n",
    "from jupyter_cadquery import set_sidecar, set_defaults, reset_defaults\n",
    "\n",
    "# Monte Carlo related packages\n",
    "import openmc\n",
    "import paramak\n",
    "import paramak_neutronics as nparamak\n",
    "import neutronics_material_maker as nmm"
   ]
  },
  {
   "cell_type": "markdown",
   "id": "a370b8bc",
   "metadata": {},
   "source": [
    "## Step 1 : Define Materials"
   ]
  },
  {
   "cell_type": "markdown",
   "id": "0a8edcfd",
   "metadata": {},
   "source": [
    "The materials use in this study are listed below\n",
    "1. Plasma = Low Density U235\n",
    "2. Blanket Fluid = LiF\n",
    "3. Neutron Multiplier = Natural Pb\n",
    "4. Reflector = Graphite\n",
    "5. First Wall Back-Plate = SS 316 LN\n",
    "6. Divertor = SS 316 LN\n",
    "7. Vaccum Vessel = SS 316 LN\n",
    "8. Plasma Facing Material = Beryllium\n",
    "9. Heat Sink = CuCrZr"
   ]
  },
  {
   "cell_type": "code",
   "execution_count": 2,
   "id": "d57c6a52-7b32-4200-b654-cff4944a0122",
   "metadata": {
    "tags": []
   },
   "outputs": [
    {
     "data": {
      "text/plain": [
       "Material\n",
       "\tID             =\t2\n",
       "\tName           =\tU235\n",
       "\tTemperature    =\tNone\n",
       "\tDensity        =\t1e-06 [g/cm3]\n",
       "\tS(a,b) Tables  \n",
       "\tNuclides       \n",
       "\tU235           =\t1            [ao]"
      ]
     },
     "execution_count": 2,
     "metadata": {},
     "output_type": "execute_result"
    }
   ],
   "source": [
    "# Plasma Material\n",
    "plasma_mat = nmm.Material(\n",
    "    name='U235',\n",
    "    isotopes={'U235':1},\n",
    "    density=1e-6,\n",
    "    percent_type='ao',\n",
    "    density_unit='g/cm3'\n",
    ")\n",
    "plasma_mat.openmc_material"
   ]
  },
  {
   "cell_type": "code",
   "execution_count": 3,
   "id": "62b0bdd6-4079-4c6d-b20e-cc26a988ffef",
   "metadata": {
    "scrolled": true,
    "tags": []
   },
   "outputs": [
    {
     "data": {
      "text/plain": [
       "Material\n",
       "\tID             =\t4\n",
       "\tName           =\tBeryllium\n",
       "\tTemperature    =\tNone\n",
       "\tDensity        =\t1.848 [g/cm3]\n",
       "\tS(a,b) Tables  \n",
       "\tNuclides       \n",
       "\tBe9            =\t1.0          [ao]"
      ]
     },
     "execution_count": 3,
     "metadata": {},
     "output_type": "execute_result"
    }
   ],
   "source": [
    "# Plasma Facing Material\n",
    "blanket_pfc_mat = nmm.Material.from_library('Beryllium')\n",
    "blanket_pfc_mat.openmc_material"
   ]
  },
  {
   "cell_type": "code",
   "execution_count": 4,
   "id": "89fdb8b5-9573-404e-9bfa-65a5c7a7d4bc",
   "metadata": {
    "tags": []
   },
   "outputs": [
    {
     "data": {
      "text/plain": [
       "Material\n",
       "\tID             =\t6\n",
       "\tName           =\tCuCrZr\n",
       "\tTemperature    =\tNone\n",
       "\tDensity        =\t8.9 [g/cm3]\n",
       "\tS(a,b) Tables  \n",
       "\tNuclides       \n",
       "\tCu63           =\t0.6290772791684787 [wo]\n",
       "\tCu65           =\t0.28956272083152135 [wo]\n",
       "\tCr50           =\t0.0033389492291459183 [wo]\n",
       "\tCr52           =\t0.06695948988208375 [wo]\n",
       "\tCr53           =\t0.007738869509676286 [wo]\n",
       "\tCr54           =\t0.0019626913790940616 [wo]\n",
       "\tZr90           =\t0.0006896031981372135 [wo]\n",
       "\tZr94           =\t0.00024331901905445024 [wo]\n",
       "\tZr92           =\t0.00023498217986567398 [wo]\n",
       "\tZr91           =\t0.00015206006938977285 [wo]\n",
       "\tZr96           =\t4.003553355288965e-05 [wo]"
      ]
     },
     "execution_count": 4,
     "metadata": {},
     "output_type": "execute_result"
    }
   ],
   "source": [
    "# Cooper Alloy Heat Sink\n",
    "blanket_heat_sink_mat = nmm.Material.from_library('CuCrZr')\n",
    "blanket_heat_sink_mat.openmc_material"
   ]
  },
  {
   "cell_type": "code",
   "execution_count": 5,
   "id": "3ec34874-8f88-40bd-a1d2-59b457017b5c",
   "metadata": {
    "tags": []
   },
   "outputs": [
    {
     "data": {
      "text/plain": [
       "Material\n",
       "\tID             =\t8\n",
       "\tName           =\tLithium Fluoride\n",
       "\tTemperature    =\tNone\n",
       "\tDensity        =\t2.635 [g/cm3]\n",
       "\tS(a,b) Tables  \n",
       "\tNuclides       \n",
       "\tLi7            =\t0.04999999999999999 [ao]\n",
       "\tLi6            =\t0.45         [ao]\n",
       "\tF19            =\t0.5          [ao]"
      ]
     },
     "execution_count": 5,
     "metadata": {},
     "output_type": "execute_result"
    }
   ],
   "source": [
    "# Blanket Fluid Material in Melting Point\n",
    "enrichment_Li = 90\n",
    "blanket_fluid_mat = nmm.Material.from_library(name='Lithium Fluoride',\n",
    "                                        enrichment=enrichment_Li,\n",
    "                                        enrichment_target='Li6',\n",
    "                                        enrichment_type='ao'\n",
    "                                       )\n",
    "blanket_fluid_mat.openmc_material"
   ]
  },
  {
   "cell_type": "code",
   "execution_count": 6,
   "id": "238bc344-5f70-4637-a747-1a8ef619f6cc",
   "metadata": {
    "tags": []
   },
   "outputs": [
    {
     "data": {
      "text/plain": [
       "Material\n",
       "\tID             =\t15\n",
       "\tName           =\tblanket_mod_mat\n",
       "\tTemperature    =\tNone\n",
       "\tDensity        =\t10.408216886761714 [g/cm3]\n",
       "\tS(a,b) Tables  \n",
       "\tNuclides       \n",
       "\tC12            =\t0.09889219999999999 [ao]\n",
       "\tC13            =\t0.0011077999999999997 [ao]\n",
       "\tPb204          =\t0.0126       [ao]\n",
       "\tPb206          =\t0.2169       [ao]\n",
       "\tPb207          =\t0.1989       [ao]\n",
       "\tPb208          =\t0.4716       [ao]"
      ]
     },
     "execution_count": 6,
     "metadata": {},
     "output_type": "execute_result"
    }
   ],
   "source": [
    "# Neutron Multiplier and Moderator Material\n",
    "neutron_multi = 0.9\n",
    "neutron_multi_mat = nmm.Material.from_library(name='Lead',\n",
    "                                              density=10.66\n",
    "                                             )\n",
    "neutron_multi_mat.name = 'neutron_multi_mat'\n",
    "\n",
    "mod_mat = nmm.Material(\n",
    "    name='Graphite',\n",
    "    elements={'C':1},\n",
    "    density=2.23,\n",
    "    percent_type='ao',\n",
    "    density_unit='g/cm3'\n",
    ")\n",
    "mod_mat.name = 'mod_mat'\n",
    "\n",
    "blanket_mod_mat = nmm.Material.from_mixture(materials=[neutron_multi_mat, mod_mat],\n",
    "                        fracs=[neutron_multi, (1-neutron_multi)],\n",
    "                        percent_type='ao')\n",
    "blanket_mod_mat.name = 'blanket_mod_mat'\n",
    "blanket_mod_mat.openmc_material"
   ]
  },
  {
   "cell_type": "code",
   "execution_count": 7,
   "id": "740f5533-53df-4329-ac9f-25cf807e19ee",
   "metadata": {
    "tags": []
   },
   "outputs": [
    {
     "data": {
      "text/plain": [
       "Material\n",
       "\tID             =\t17\n",
       "\tName           =\tGraphite\n",
       "\tTemperature    =\tNone\n",
       "\tDensity        =\t2.23 [g/cm3]\n",
       "\tS(a,b) Tables  \n",
       "\tNuclides       \n",
       "\tC12            =\t0.988922     [ao]\n",
       "\tC13            =\t0.011078     [ao]"
      ]
     },
     "execution_count": 7,
     "metadata": {},
     "output_type": "execute_result"
    }
   ],
   "source": [
    "# Reflector Materials\n",
    "blanket_ref_mat = nmm.Material(\n",
    "    name='Graphite',\n",
    "    elements={'C':1},\n",
    "    density=2.23,\n",
    "    percent_type='ao',\n",
    "    density_unit='g/cm3'\n",
    ")\n",
    "blanket_ref_mat.openmc_material"
   ]
  },
  {
   "cell_type": "code",
   "execution_count": 8,
   "id": "c56e6b0e",
   "metadata": {
    "scrolled": true,
    "tags": []
   },
   "outputs": [
    {
     "data": {
      "text/plain": [
       "Material\n",
       "\tID             =\t19\n",
       "\tName           =\tSteel, Stainless 316\n",
       "\tTemperature    =\tNone\n",
       "\tDensity        =\t8.0 [g/cm3]\n",
       "\tS(a,b) Tables  \n",
       "\tNuclides       \n",
       "\tC12            =\t0.0018789517999999999 [ao]\n",
       "\tC13            =\t2.10482e-05  [ao]\n",
       "\tSi30           =\t0.00031019783679999996 [ao]\n",
       "\tSi29           =\t0.00047056391679999997 [ao]\n",
       "\tSi28           =\t0.0092672382464 [ao]\n",
       "\tP31            =\t0.000413     [ao]\n",
       "\tS32            =\t0.000247105924 [ao]\n",
       "\tS33            =\t1.946594e-06 [ao]\n",
       "\tS34            =\t1.0909573999999999e-05 [ao]\n",
       "\tS36            =\t3.7908e-08   [ao]\n",
       "\tCr50           =\t0.007907291700000001 [ao]\n",
       "\tCr52           =\t0.15248424954 [ao]\n",
       "\tCr53           =\t0.01729048986 [ao]\n",
       "\tCr54           =\t0.004303968900000001 [ao]\n",
       "\tMn55           =\t0.010274     [ao]\n",
       "\tFe58           =\t0.00188040702 [ao]\n",
       "\tFe56           =\t0.6118257649400001 [ao]\n",
       "\tFe54           =\t0.03897510295000001 [ao]\n",
       "\tFe57           =\t0.014129725090000001 [ao]\n",
       "\tNi61           =\t0.001297240397 [ao]\n",
       "\tNi64           =\t0.001053360568 [ao]\n",
       "\tNi58           =\t0.077473554507 [ao]\n",
       "\tNi60           =\t0.029842674492999998 [ao]\n",
       "\tNi62           =\t0.004136170035 [ao]\n",
       "\tMo96           =\t0.00241825192 [ao]\n",
       "\tMo95           =\t0.00230221992 [ao]\n",
       "\tMo100          =\t0.00141326976 [ao]\n",
       "\tMo94           =\t0.0013324824799999999 [ao]\n",
       "\tMo98           =\t0.0035233116799999998 [ao]\n",
       "\tMo92           =\t0.00212469096 [ao]\n",
       "\tMo97           =\t0.00138977328 [ao]"
      ]
     },
     "execution_count": 8,
     "metadata": {},
     "output_type": "execute_result"
    }
   ],
   "source": [
    "# First Wall Material\n",
    "blanket_first_wall_bp_mat = nmm.Material.from_library('Steel, Stainless 316')\n",
    "blanket_first_wall_bp_mat.openmc_material"
   ]
  },
  {
   "cell_type": "code",
   "execution_count": 9,
   "id": "2fe2bfe6-5a29-4417-939c-cfc66af376e5",
   "metadata": {
    "tags": []
   },
   "outputs": [
    {
     "data": {
      "text/plain": [
       "Material\n",
       "\tID             =\t21\n",
       "\tName           =\tSteel, Stainless 316\n",
       "\tTemperature    =\tNone\n",
       "\tDensity        =\t8.0 [g/cm3]\n",
       "\tS(a,b) Tables  \n",
       "\tNuclides       \n",
       "\tC12            =\t0.0018789517999999999 [ao]\n",
       "\tC13            =\t2.10482e-05  [ao]\n",
       "\tSi30           =\t0.00031019783679999996 [ao]\n",
       "\tSi29           =\t0.00047056391679999997 [ao]\n",
       "\tSi28           =\t0.0092672382464 [ao]\n",
       "\tP31            =\t0.000413     [ao]\n",
       "\tS32            =\t0.000247105924 [ao]\n",
       "\tS33            =\t1.946594e-06 [ao]\n",
       "\tS34            =\t1.0909573999999999e-05 [ao]\n",
       "\tS36            =\t3.7908e-08   [ao]\n",
       "\tCr50           =\t0.007907291700000001 [ao]\n",
       "\tCr52           =\t0.15248424954 [ao]\n",
       "\tCr53           =\t0.01729048986 [ao]\n",
       "\tCr54           =\t0.004303968900000001 [ao]\n",
       "\tMn55           =\t0.010274     [ao]\n",
       "\tFe58           =\t0.00188040702 [ao]\n",
       "\tFe56           =\t0.6118257649400001 [ao]\n",
       "\tFe54           =\t0.03897510295000001 [ao]\n",
       "\tFe57           =\t0.014129725090000001 [ao]\n",
       "\tNi61           =\t0.001297240397 [ao]\n",
       "\tNi64           =\t0.001053360568 [ao]\n",
       "\tNi58           =\t0.077473554507 [ao]\n",
       "\tNi60           =\t0.029842674492999998 [ao]\n",
       "\tNi62           =\t0.004136170035 [ao]\n",
       "\tMo96           =\t0.00241825192 [ao]\n",
       "\tMo95           =\t0.00230221992 [ao]\n",
       "\tMo100          =\t0.00141326976 [ao]\n",
       "\tMo94           =\t0.0013324824799999999 [ao]\n",
       "\tMo98           =\t0.0035233116799999998 [ao]\n",
       "\tMo92           =\t0.00212469096 [ao]\n",
       "\tMo97           =\t0.00138977328 [ao]"
      ]
     },
     "execution_count": 9,
     "metadata": {},
     "output_type": "execute_result"
    }
   ],
   "source": [
    "# Divertor Material\n",
    "divertor_mat = nmm.Material.from_library('Steel, Stainless 316')\n",
    "divertor_mat.openmc_material"
   ]
  },
  {
   "cell_type": "code",
   "execution_count": 10,
   "id": "40fa5fa0-0d60-4a35-a4f2-a9e4e7f5c878",
   "metadata": {
    "tags": []
   },
   "outputs": [
    {
     "data": {
      "text/plain": [
       "Material\n",
       "\tID             =\t23\n",
       "\tName           =\tSteel, Stainless 316\n",
       "\tTemperature    =\tNone\n",
       "\tDensity        =\t8.0 [g/cm3]\n",
       "\tS(a,b) Tables  \n",
       "\tNuclides       \n",
       "\tC12            =\t0.0018789517999999999 [ao]\n",
       "\tC13            =\t2.10482e-05  [ao]\n",
       "\tSi30           =\t0.00031019783679999996 [ao]\n",
       "\tSi29           =\t0.00047056391679999997 [ao]\n",
       "\tSi28           =\t0.0092672382464 [ao]\n",
       "\tP31            =\t0.000413     [ao]\n",
       "\tS32            =\t0.000247105924 [ao]\n",
       "\tS33            =\t1.946594e-06 [ao]\n",
       "\tS34            =\t1.0909573999999999e-05 [ao]\n",
       "\tS36            =\t3.7908e-08   [ao]\n",
       "\tCr50           =\t0.007907291700000001 [ao]\n",
       "\tCr52           =\t0.15248424954 [ao]\n",
       "\tCr53           =\t0.01729048986 [ao]\n",
       "\tCr54           =\t0.004303968900000001 [ao]\n",
       "\tMn55           =\t0.010274     [ao]\n",
       "\tFe58           =\t0.00188040702 [ao]\n",
       "\tFe56           =\t0.6118257649400001 [ao]\n",
       "\tFe54           =\t0.03897510295000001 [ao]\n",
       "\tFe57           =\t0.014129725090000001 [ao]\n",
       "\tNi61           =\t0.001297240397 [ao]\n",
       "\tNi64           =\t0.001053360568 [ao]\n",
       "\tNi58           =\t0.077473554507 [ao]\n",
       "\tNi60           =\t0.029842674492999998 [ao]\n",
       "\tNi62           =\t0.004136170035 [ao]\n",
       "\tMo96           =\t0.00241825192 [ao]\n",
       "\tMo95           =\t0.00230221992 [ao]\n",
       "\tMo100          =\t0.00141326976 [ao]\n",
       "\tMo94           =\t0.0013324824799999999 [ao]\n",
       "\tMo98           =\t0.0035233116799999998 [ao]\n",
       "\tMo92           =\t0.00212469096 [ao]\n",
       "\tMo97           =\t0.00138977328 [ao]"
      ]
     },
     "execution_count": 10,
     "metadata": {},
     "output_type": "execute_result"
    }
   ],
   "source": [
    "# Vaccum Vessel Material\n",
    "vac_vessel_mat = nmm.Material.from_library('Steel, Stainless 316')\n",
    "vac_vessel_mat.openmc_material"
   ]
  },
  {
   "cell_type": "markdown",
   "id": "d0af11e5",
   "metadata": {},
   "source": [
    "## Langkah 2 : Definisikan Geometri"
   ]
  },
  {
   "cell_type": "code",
   "execution_count": 11,
   "id": "9aae9d6b",
   "metadata": {
    "tags": []
   },
   "outputs": [],
   "source": [
    "# Color list : https://www.tug.org/pracjourn/2007-4/walden/color.pdf\n",
    "# Make a ITER Tokamak Geometry Class\n",
    "class ITERTokamak_mod(paramak.Reactor):\n",
    "    \"\"\"Create ITER geometry without TF Coils and PF Coils. This class modified\n",
    "    from ITERTokamak function from paramak package\"\"\"\n",
    "    \n",
    "    def __init__(\n",
    "        self,\n",
    "        rotation_angle: float = 360.,\n",
    "        blanket_mod_ratio: float = 0.,\n",
    "    ):\n",
    "        super().__init__([])\n",
    "        \n",
    "        self.rotation_angle = rotation_angle\n",
    "        self.blanket_mod_ratio = blanket_mod_ratio\n",
    "    \n",
    "    def create_vessel_components(self) -> list:\n",
    "        \"\"\"Creates a 3d solids for each vessel component.\n",
    "\n",
    "        Returns:\n",
    "            A list of CadQuery solids: A list of 3D solid volumes\n",
    "        \"\"\"\n",
    "        offset_r = [55, 25, 64, 21, 55]\n",
    "    \n",
    "        # Blanket first wall back-plate\n",
    "        blanket_first_wall_bp = paramak.BlanketFP(\n",
    "            plasma=self.plasma,\n",
    "            thickness=5,\n",
    "            start_angle=-70,\n",
    "            stop_angle=230,\n",
    "            rotation_angle=self.rotation_angle,\n",
    "            vertical_displacement=self.plasma.vertical_displacement,\n",
    "            offset_from_plasma=[[-70, 0, 90, 180, 230], [49, 19, 58, 15, 49]],\n",
    "            name='blanket_first_wall_bp | SS 316',\n",
    "            color=(0.6,0.7,1.0),\n",
    "            stp_filename=\"blanket_first_wall_bp.stp\",\n",
    "            stl_filename=\"blanket_first_wall_bp.stl\",\n",
    "            material_tag='blanket_first_wall_bp_mat',\n",
    "        )\n",
    "        \n",
    "        # Blanket plasma facing material\n",
    "        blanket_pfc = paramak.BlanketFP(\n",
    "            plasma=self.plasma,\n",
    "            thickness=1,\n",
    "            start_angle=-70,\n",
    "            stop_angle=230,\n",
    "            rotation_angle=self.rotation_angle,\n",
    "            vertical_displacement=self.plasma.vertical_displacement,\n",
    "            offset_from_plasma=[[-70, 0, 90, 180, 230], [46, 16, 55, 12, 46]],\n",
    "            name='blanket_pfc | Beryllium',\n",
    "            color=(1,0,0),\n",
    "            stp_filename=\"blanket_pfc.stp\",\n",
    "            stl_filename=\"blanket_pfc.stl\",\n",
    "            material_tag='blanket_pfc_mat',\n",
    "        )\n",
    "        \n",
    "        # Blanket heat sink\n",
    "        blanket_heat_sink = paramak.BlanketFP(\n",
    "            plasma=self.plasma,\n",
    "            thickness=2,\n",
    "            start_angle=-70,\n",
    "            stop_angle=230,\n",
    "            rotation_angle=self.rotation_angle,\n",
    "            vertical_displacement=self.plasma.vertical_displacement,\n",
    "            offset_from_plasma=[[-70, 0, 90, 180, 230], [47, 17, 56, 13, 47]],\n",
    "            name='blanket_heat_sink | CuCrZr',\n",
    "            color=(0.7,0.3,0),\n",
    "            stp_filename=\"blanket_heat_sink.stp\",\n",
    "            stl_filename=\"blanket_heat_sink.stl\",\n",
    "            material_tag='blanket_heat_sink_mat',\n",
    "        )\n",
    "        \n",
    "        # Front Breeder Zone\n",
    "        front_breeder = paramak.BlanketFP(\n",
    "            plasma=self.plasma,\n",
    "            thickness=1,\n",
    "            start_angle=-70,\n",
    "            stop_angle=230,\n",
    "            rotation_angle=self.rotation_angle,\n",
    "            vertical_displacement=self.plasma.vertical_displacement,\n",
    "            offset_from_plasma=[[-70, 0, 90, 180, 230], [54, 24, 63, 20, 54]],\n",
    "            name='front_breeder | LiF',\n",
    "            color=(0.9,0.9,0),\n",
    "            stp_filename=\"front_breeder.stp\",\n",
    "            stl_filename=\"front_breeder.stl\",\n",
    "            material_tag='blanket_fluid_mat',\n",
    "        )\n",
    "        \n",
    "        # Blanket reflector\n",
    "        blanket_ref = paramak.BlanketFP(\n",
    "            plasma=self.plasma,\n",
    "            thickness=15,\n",
    "            start_angle=-70,\n",
    "            stop_angle=230,\n",
    "            rotation_angle=self.rotation_angle,\n",
    "            vertical_displacement=self.plasma.vertical_displacement,\n",
    "            offset_from_plasma=[[-70, 0, 90, 180, 230], [85, 55, 94, 51, 85]],\n",
    "            name='blanket_ref | Graphite',\n",
    "            color=(0.9,0.4,0),\n",
    "            stp_filename=\"blanket_ref.stp\",\n",
    "            stl_filename=\"blanket_ref.stl\",\n",
    "            material_tag='blanket_ref_mat',\n",
    "        )\n",
    "\n",
    "        # SN Divertor\n",
    "        divertor = paramak.ITERtypeDivertor(\n",
    "            anchors=((4.34e2, -3.3e2), (5.56e2, -3.74e2)),\n",
    "            coverages=(105, 125),\n",
    "            lengths=(45, 75),\n",
    "            radii=(68, 65), # radii=(68, 65),\n",
    "            tilts=(-43, 9), # tilts=(-30, 2),\n",
    "            dome_height=45,\n",
    "            dome_pos=0.45,\n",
    "            rotation_angle=self.rotation_angle,\n",
    "            name='divertor | SS 316',\n",
    "            color=(0.3,0,0.6),\n",
    "            stp_filename=\"divertor.stp\",\n",
    "            stl_filename=\"divertor.stl\",\n",
    "            material_tag='divertor_mat',\n",
    "        )\n",
    "\n",
    "        # Vacuum vessel\n",
    "        divertor.points  # trigger the building of the points for divertor\n",
    "        # the inner part of the vacuum vessel is computed from the outer\n",
    "        # points of the blanket and the divertor\n",
    "        vac_vessel_inner = paramak.RotateMixedShape(\n",
    "            points=blanket_ref.outer_points + divertor.casing_points,\n",
    "            rotation_angle=self.rotation_angle,\n",
    "        )\n",
    "\n",
    "        vac_vessel = paramak.RotateSplineShape(\n",
    "            points=[\n",
    "                (327.77, 36.5026668124882),\n",
    "                (327.77, 73.37741270075162),\n",
    "                (327.77, 108.31180820215741),\n",
    "                (327.77, 143.2462037035632),\n",
    "                (327.77, 178.18059920496898),\n",
    "                (327.77, 213.11499470637477),\n",
    "                (327.77, 248.04939020778068),\n",
    "                (327.77, 282.98378570918646),\n",
    "                (327.77, 317.9181812105922),\n",
    "                (328.6121587814181, 368.23899806938385),\n",
    "                (336.18303032328333, 422.4306297110355),\n",
    "                (350.4835654579176, 457.5437492206628),\n",
    "                (371.95910957013655, 492.47041663587777),\n",
    "                (404.3208742000702, 522.0151685493631),\n",
    "                (439.6516080621078, 544.4559826211985),\n",
    "                (474.98234192414554, 556.3610266211815),\n",
    "                (510.2245275810152, 564.0927634387052),\n",
    "                (545.6438096482208, 565.1200145185009),\n",
    "                (565.832800426528, 563.1864687746993),\n",
    "\n",
    "                (580.9745435102584, 559.4390362932862),\n",
    "                (616.3052773722961, 548.4109567158157),\n",
    "                (651.6360112343338, 533.224020531035),\n",
    "                (686.9667450963714, 515.3041214328789),\n",
    "                (722.297478958409, 492.23516177329117),\n",
    "                (757.6282128204466, 466.8689289401416),\n",
    "                (792.9589466824843, 437.10619055069265),\n",
    "                (825.7660566972336, 403.7167485984509),\n",
    "                (853.525919017406, 369.42176700251196),\n",
    "                (877.9209495411939, 333.90960594986575),\n",
    "                (898.9511482685972, 300.5186330502012),\n",
    "                (916.616515199616, 265.2383422522439),\n",
    "                (932.5994662324425, 230.72194441870647),\n",
    "                (946.0587934179808, 193.1122328856627),\n",
    "                (956.1532888071343, 156.87835598377137),\n",
    "                (962.8829523999035, 118.10702768634405),\n",
    "                (967.9302000944803, 80.39197257542594),\n",
    "                (968.7714080435763, 38.24754419835381),\n",
    "\n",
    "                (968.7714080435763, 25.77097437642317),\n",
    "                (964.5653682980957, -1.670738783514139),\n",
    "                (956.9944967562304, -29.93883090626548),\n",
    "                (956.1532888071343, -34.59540221679083),\n",
    "                (946.0587934179808, -71.15339839027786),\n",
    "                (931.7582582833464, -104.25874435511184),\n",
    "                (914.9340993014238, -139.91477225259314),\n",
    "                (898.9511482685972, -174.48160361826422),\n",
    "                (883.8094051848669, -213.64300914878197),\n",
    "                (867.8264541520404, -248.21908241802464),\n",
    "                (851.0022951701176, -284.2078188440911),\n",
    "                (834.1781361881949, -319.9470238737184),\n",
    "                (818.1951851553683, -359.0978394110024),\n",
    "                (800.5298182243495, -391.2313539579658),\n",
    "                (776.1347877005617, -427.87174371008393),\n",
    "                (744.1688856349085, -460.45530873911446),\n",
    "                (708.8381517728709, -490.0255912806248),\n",
    "                (673.5074179108332, -512.7040543014494),\n",
    "                (638.1766840487956, -528.371873327094),\n",
    "                (602.8459501867579, -539.0490644239661),\n",
    "                (567.5152163247203, -546.1219131278361),\n",
    "                (532.1844824626827, -548.9566889080664),\n",
    "                (496.85374860064496, -547.7514325554811),\n",
    "                (461.52301473860734, -541.3971156414638),\n",
    "                (426.1922808765697, -527.596464992453),\n",
    "                (390.8615470145321, -501.2796363633471),\n",
    "                (360.57806084707124, -468.0473902249954),\n",
    "                (340.389070068764, -431.4355817359209),\n",
    "                (329.87397070506233, -399.072068113844),\n",
    "                (327.770950832322, -357.4796824533661),\n",
    "                (327.770950832322, -311.73270913617455),\n",
    "                (327.770950832322, -276.79831363476876),\n",
    "                (327.770950832322, -241.86391813336297),\n",
    "                (327.770950832322, -206.92952263195718),\n",
    "                (327.770950832322, -171.99512713055117),\n",
    "                (327.770950832322, -137.06073162914538),\n",
    "                (327.770950832322, -102.12633612773948),\n",
    "                (327.770950832322, -67.19194062633369),\n",
    "\n",
    "            ],\n",
    "            cut=[vac_vessel_inner],  # to make a hollow shape\n",
    "            rotation_angle=self.rotation_angle,\n",
    "            name='vac_vessel | SS 316',\n",
    "            color=(0.9,0.9,0.9),\n",
    "            stp_filename='vac_vessel.stp',\n",
    "            stl_filename='vac_vessel.stl',\n",
    "            material_tag='vac_vessel_mat',\n",
    "        )\n",
    "        \n",
    "        if self.blanket_mod_ratio == 0:\n",
    "            \n",
    "            # Blanket Fluid\n",
    "            blanket_fluid = paramak.BlanketFP(\n",
    "                plasma=self.plasma,\n",
    "                thickness=30,\n",
    "                start_angle=-70,\n",
    "                stop_angle=230,\n",
    "                rotation_angle=self.rotation_angle,\n",
    "                vertical_displacement=self.plasma.vertical_displacement,\n",
    "                offset_from_plasma=[[-70, 0, 90, 180, 230], offset_r],\n",
    "                name='blanket_fluid | LIF',\n",
    "                color=(0.9,0.9,0),\n",
    "                stp_filename=\"blanket_fluid.stp\",\n",
    "                stl_filename=\"blanket_fluid.stl\",\n",
    "                material_tag='blanket_fluid_mat',\n",
    "            )\n",
    "            \n",
    "            return [divertor, blanket_fluid, front_breeder, blanket_ref, blanket_heat_sink, blanket_pfc, blanket_first_wall_bp, vac_vessel, vac_vessel_inner]\n",
    "            \n",
    "        # Blanket Fluid\n",
    "        blanket_fluid = paramak.BlanketFP(\n",
    "            plasma=self.plasma,\n",
    "            thickness=30*(1-self.blanket_mod_ratio),\n",
    "            start_angle=-70,\n",
    "            stop_angle=230,\n",
    "            rotation_angle=self.rotation_angle,\n",
    "            vertical_displacement=self.plasma.vertical_displacement,\n",
    "            offset_from_plasma=[[-70, 0, 90, 180, 230], [x+30*(self.blanket_mod_ratio) for x in offset_r]],\n",
    "            name='blanket_fluid | LiF',\n",
    "            color=(0.9,0.9,0),\n",
    "            stp_filename=\"blanket_fluid.stp\",\n",
    "            stl_filename=\"blanket_fluid.stl\",\n",
    "            material_tag='blanket_fluid_mat',\n",
    "        )\n",
    "        \n",
    "        # Blanket Moderator\n",
    "        blanket_mod = paramak.BlanketFP(\n",
    "            plasma=self.plasma,\n",
    "            thickness=30*(self.blanket_mod_ratio),\n",
    "            start_angle=-70,\n",
    "            stop_angle=230,\n",
    "            rotation_angle=self.rotation_angle,\n",
    "            vertical_displacement=self.plasma.vertical_displacement,\n",
    "            offset_from_plasma=[[-70, 0, 90, 180, 230], [55, 25, 64, 21, 55]],\n",
    "            name='blanket_mod | Graphite (+ Pb)',\n",
    "            color=(0.3,0.3,0),\n",
    "            stp_filename=\"blanket_mod.stp\",\n",
    "            stl_filename=\"blanket_mod.stl\",\n",
    "            material_tag='blanket_mod_mat',\n",
    "        )\n",
    "\n",
    "        return [divertor, blanket_fluid, front_breeder, blanket_ref, blanket_mod, blanket_heat_sink, blanket_pfc, blanket_first_wall_bp, vac_vessel, vac_vessel_inner]\n",
    "    \n",
    "    \n",
    "    def create_plasma(self) -> list:\n",
    "        \"\"\"Creates a 3d solids for the plasma.\n",
    "\n",
    "        Returns:\n",
    "            A list of CadQuery solids: A list of 3D solid volumes\n",
    "        \"\"\"\n",
    "\n",
    "        self.plasma = paramak.Plasma(\n",
    "            major_radius=6.2e2,\n",
    "            minor_radius=200,\n",
    "            elongation=1.7,\n",
    "            triangularity=0.33,\n",
    "            vertical_displacement=5.7e1,\n",
    "            configuration=\"single-null\",\n",
    "            rotation_angle=self.rotation_angle,\n",
    "            name='plasma | U235',\n",
    "            color=(0.7,0,0.7),\n",
    "            stp_filename='plasma.stp',\n",
    "            stl_filename='plasma.stl',\n",
    "            material_tag='plasma_mat',\n",
    "        )\n",
    "\n",
    "        return [self.plasma]\n",
    "    \n",
    "    def create_solids(self):\n",
    "        \"\"\"Creates a 3d solids for each component.\n",
    "\n",
    "        Returns:\n",
    "            A list of CadQuery solids: A list of 3D solid volumes\n",
    "        \"\"\"\n",
    "\n",
    "        plasma = self.create_plasma()\n",
    "        vessel = self.create_vessel_components()\n",
    "\n",
    "        shapes_and_components = plasma + vessel[:-1]\n",
    "        self.shapes_and_components = shapes_and_components\n",
    "\n",
    "        return shapes_and_components"
   ]
  },
  {
   "cell_type": "code",
   "execution_count": 12,
   "id": "f23871f0",
   "metadata": {},
   "outputs": [
    {
     "name": "stdout",
     "output_type": "stream",
     "text": [
      "Saved file as  plasma.stl\n",
      "Saved file as  divertor.stl\n",
      "Saved file as  blanket_fluid.stl\n",
      "Saved file as  front_breeder.stl\n",
      "Saved file as  blanket_ref.stl\n",
      "Saved file as  blanket_mod.stl\n",
      "Saved file as  blanket_heat_sink.stl\n",
      "Saved file as  blanket_pfc.stl\n",
      "Saved file as  blanket_first_wall_bp.stl\n",
      "Saved file as  vac_vessel.stl\n",
      "Saved file as  graveyard.stl\n"
     ]
    },
    {
     "data": {
      "text/plain": [
       "'dagmc.h5m'"
      ]
     },
     "execution_count": 12,
     "metadata": {},
     "output_type": "execute_result"
    }
   ],
   "source": [
    "# Test Geometry\n",
    "mod_ratio = 0.5\n",
    "my_reactor_test = ITERTokamak_mod(360, mod_ratio)\n",
    "my_reactor_test.export_h5m(include_plasma=True)\n",
    "# my_reactor_test.show()"
   ]
  },
  {
   "cell_type": "code",
   "execution_count": 13,
   "id": "1b2bf581-4807-4c76-9a32-be250013e20f",
   "metadata": {},
   "outputs": [],
   "source": [
    "# my_reactor_test.export_html()"
   ]
  },
  {
   "cell_type": "markdown",
   "id": "1b10a7bb",
   "metadata": {},
   "source": [
    "## Langkah 3 : Definisikan Sumber"
   ]
  },
  {
   "cell_type": "code",
   "execution_count": 14,
   "id": "d117e78e-4bc5-4c0c-bde6-099f348f9c45",
   "metadata": {},
   "outputs": [],
   "source": [
    "# Define a neutron plasma source\n",
    "# initialises a new source object\n",
    "source = openmc.Source()\n",
    "\n",
    "# the distribution of radius is just a single value\n",
    "# radius = openmc.stats.Discrete([10], [1])\n",
    "radius = openmc.stats.Discrete([420, 500, 560, 600, 620, 640, 680, 740, 820],\n",
    "                               [0.2, 0.5, 1, 1, 1, 1, 1, 0.5, 0.2])\n",
    "\n",
    "# the distribution of source z values is just a single value\n",
    "z_values = openmc.stats.Discrete([-620, -200, -120, -60, -20, 0, 20, 60, 120, 200, 620],\n",
    "                                 [0.001, 0.2, 0.5, 1, 1, 1, 1, 1, 0.5, 0.2, 0.001])\n",
    "# z_values = openmc.stats.Discrete([-0.5, 0, 0.5], [1, 1, 1])\n",
    "\n",
    "# the distribution of source azimuthal angles values is a uniform distribution between 0 and 2 Pi\n",
    "angle = openmc.stats.Uniform(a=0., b=2* 3.14159265359)\n",
    "\n",
    "# this makes the ring source using the three distributions and a radius\n",
    "source.space = openmc.stats.CylindricalIndependent(r=radius, phi=angle, z=z_values, origin=(0.0, 0.0, 0.0))\n",
    "\n",
    "# sets the direction to isotropic\n",
    "source.angle = openmc.stats.Isotropic()\n",
    "\n",
    "# sets the energy distribution to a Muir distribution neutrons\n",
    "m_react = 5.0 # Mass of D (2) + T (3) in AMU\n",
    "kt = 36400.0 # Ion Temperature\n",
    "source.energy = openmc.stats.Muir(e0=14100000.0, m_rat=m_react, kt=kt)"
   ]
  },
  {
   "cell_type": "markdown",
   "id": "1e2a88d4",
   "metadata": {},
   "source": [
    "## Langkah 4 : Definisikan Tally TBR dan Jalankan Perhitungan OpenMC"
   ]
  },
  {
   "cell_type": "code",
   "execution_count": 18,
   "id": "21f411ca-298e-461b-9ad9-59d216e15363",
   "metadata": {},
   "outputs": [],
   "source": [
    "# Define the model\n",
    "simulation_batches = 40\n",
    "my_model = nparamak.NeutronicsModel(\n",
    "    geometry=my_reactor_test,\n",
    "    source=source,\n",
    "    simulation_batches=simulation_batches,\n",
    "    simulation_particles_per_batch=1000,\n",
    "    materials = {'plasma_mat':plasma_mat,\n",
    "                 'divertor_mat':divertor_mat,\n",
    "                 'blanket_fluid_mat':blanket_fluid_mat,\n",
    "                 'blanket_ref_mat':blanket_ref_mat,\n",
    "                 'blanket_mod_mat':blanket_mod_mat,\n",
    "                 'blanket_pfc_mat':blanket_pfc_mat,\n",
    "                 'blanket_heat_sink_mat':blanket_heat_sink_mat,\n",
    "                 'blanket_first_wall_bp_mat':blanket_first_wall_bp_mat,\n",
    "                 'vac_vessel_mat':vac_vessel_mat},\n",
    "    cell_tallies=['(n,Xt)'],\n",
    "    photon_transport=False,\n",
    ")"
   ]
  },
  {
   "cell_type": "code",
   "execution_count": 19,
   "id": "506766f8-11f8-487c-92ae-837004fad89f",
   "metadata": {},
   "outputs": [
    {
     "name": "stdout",
     "output_type": "stream",
     "text": [
      "                                %%%%%%%%%%%%%%%\n",
      "                           %%%%%%%%%%%%%%%%%%%%%%%%\n",
      "                        %%%%%%%%%%%%%%%%%%%%%%%%%%%%%%\n",
      "                      %%%%%%%%%%%%%%%%%%%%%%%%%%%%%%%%%%\n",
      "                    %%%%%%%%%%%%%%%%%%%%%%%%%%%%%%%%%%%%%%\n",
      "                   %%%%%%%%%%%%%%%%%%%%%%%%%%%%%%%%%%%%%%%%\n",
      "                                    %%%%%%%%%%%%%%%%%%%%%%%%\n",
      "                                     %%%%%%%%%%%%%%%%%%%%%%%%\n",
      "                 ###############      %%%%%%%%%%%%%%%%%%%%%%%%\n",
      "                ##################     %%%%%%%%%%%%%%%%%%%%%%%\n",
      "                ###################     %%%%%%%%%%%%%%%%%%%%%%%\n",
      "                ####################     %%%%%%%%%%%%%%%%%%%%%%\n",
      "                #####################     %%%%%%%%%%%%%%%%%%%%%\n",
      "                ######################     %%%%%%%%%%%%%%%%%%%%\n",
      "                #######################     %%%%%%%%%%%%%%%%%%\n",
      "                 #######################     %%%%%%%%%%%%%%%%%\n",
      "                 ######################     %%%%%%%%%%%%%%%%%\n",
      "                  ####################     %%%%%%%%%%%%%%%%%\n",
      "                    #################     %%%%%%%%%%%%%%%%%\n",
      "                     ###############     %%%%%%%%%%%%%%%%\n",
      "                       ############     %%%%%%%%%%%%%%%\n",
      "                          ########     %%%%%%%%%%%%%%\n",
      "                                      %%%%%%%%%%%\n",
      "\n",
      "                   | The OpenMC Monte Carlo Code\n",
      "         Copyright | 2011-2021 MIT and OpenMC contributors\n",
      "           License | https://docs.openmc.org/en/latest/license.html\n",
      "           Version | 0.13.0-dev\n",
      "          Git SHA1 | 5c06e33b6bb041294b27dd248c7693d9063b8a96\n",
      "         Date/Time | 2021-09-13 18:52:17\n",
      "    OpenMP Threads | 4\n",
      "\n",
      " Reading settings XML file...\n",
      " Reading cross sections XML file...\n",
      " Reading materials XML file...\n",
      " Reading geometry XML file...\n",
      "Set overlap thickness = 0\n",
      "Set numerical precision = 0.001\n",
      "Loading file dagmc.h5m\n",
      "Initializing the GeomQueryTool...\n",
      "Using faceting tolerance: 1.30354e-76\n",
      "Building acceleration data structures...\n",
      "Implicit Complement assumed to be Vacuum\n",
      " Reading U235 from /home/husninaufalz/ND/endfb80_hdf5/U235.h5\n",
      " Reading C12 from /home/husninaufalz/ND/endfb80_hdf5/C12.h5\n",
      " Reading C13 from /home/husninaufalz/ND/endfb80_hdf5/C13.h5\n",
      " Reading Si30 from /home/husninaufalz/ND/endfb80_hdf5/Si30.h5\n",
      " Reading Si29 from /home/husninaufalz/ND/endfb80_hdf5/Si29.h5\n",
      " Reading Si28 from /home/husninaufalz/ND/endfb80_hdf5/Si28.h5\n",
      " Reading P31 from /home/husninaufalz/ND/endfb80_hdf5/P31.h5\n",
      " Reading S32 from /home/husninaufalz/ND/endfb80_hdf5/S32.h5\n",
      " Reading S33 from /home/husninaufalz/ND/endfb80_hdf5/S33.h5\n",
      " Reading S34 from /home/husninaufalz/ND/endfb80_hdf5/S34.h5\n",
      " Reading S36 from /home/husninaufalz/ND/endfb80_hdf5/S36.h5\n",
      " Reading Cr50 from /home/husninaufalz/ND/endfb80_hdf5/Cr50.h5\n",
      " Reading Cr52 from /home/husninaufalz/ND/endfb80_hdf5/Cr52.h5\n",
      " Reading Cr53 from /home/husninaufalz/ND/endfb80_hdf5/Cr53.h5\n",
      " Reading Cr54 from /home/husninaufalz/ND/endfb80_hdf5/Cr54.h5\n",
      " Reading Mn55 from /home/husninaufalz/ND/endfb80_hdf5/Mn55.h5\n",
      " Reading Fe58 from /home/husninaufalz/ND/endfb80_hdf5/Fe58.h5\n",
      " Reading Fe56 from /home/husninaufalz/ND/endfb80_hdf5/Fe56.h5\n",
      " Reading Fe54 from /home/husninaufalz/ND/endfb80_hdf5/Fe54.h5\n",
      " Reading Fe57 from /home/husninaufalz/ND/endfb80_hdf5/Fe57.h5\n",
      " Reading Ni61 from /home/husninaufalz/ND/endfb80_hdf5/Ni61.h5\n",
      " Reading Ni64 from /home/husninaufalz/ND/endfb80_hdf5/Ni64.h5\n",
      " Reading Ni58 from /home/husninaufalz/ND/endfb80_hdf5/Ni58.h5\n",
      " Reading Ni60 from /home/husninaufalz/ND/endfb80_hdf5/Ni60.h5\n",
      " Reading Ni62 from /home/husninaufalz/ND/endfb80_hdf5/Ni62.h5\n",
      " Reading Mo96 from /home/husninaufalz/ND/endfb80_hdf5/Mo96.h5\n",
      " Reading Mo95 from /home/husninaufalz/ND/endfb80_hdf5/Mo95.h5\n",
      " Reading Mo100 from /home/husninaufalz/ND/endfb80_hdf5/Mo100.h5\n",
      " Reading Mo94 from /home/husninaufalz/ND/endfb80_hdf5/Mo94.h5\n",
      " Reading Mo98 from /home/husninaufalz/ND/endfb80_hdf5/Mo98.h5\n",
      " Reading Mo92 from /home/husninaufalz/ND/endfb80_hdf5/Mo92.h5\n",
      " Reading Mo97 from /home/husninaufalz/ND/endfb80_hdf5/Mo97.h5\n",
      " Reading Li7 from /home/husninaufalz/ND/endfb80_hdf5/Li7.h5\n",
      " Reading Li6 from /home/husninaufalz/ND/endfb80_hdf5/Li6.h5\n",
      " Reading F19 from /home/husninaufalz/ND/endfb80_hdf5/F19.h5\n",
      " Reading Pb204 from /home/husninaufalz/ND/endfb80_hdf5/Pb204.h5\n",
      " Reading Pb206 from /home/husninaufalz/ND/endfb80_hdf5/Pb206.h5\n",
      " Reading Pb207 from /home/husninaufalz/ND/endfb80_hdf5/Pb207.h5\n",
      " Reading Pb208 from /home/husninaufalz/ND/endfb80_hdf5/Pb208.h5\n",
      " Reading Be9 from /home/husninaufalz/ND/endfb80_hdf5/Be9.h5\n",
      " Reading Cu63 from /home/husninaufalz/ND/endfb80_hdf5/Cu63.h5\n",
      " Reading Cu65 from /home/husninaufalz/ND/endfb80_hdf5/Cu65.h5\n",
      " Reading Zr90 from /home/husninaufalz/ND/endfb80_hdf5/Zr90.h5\n",
      " Reading Zr94 from /home/husninaufalz/ND/endfb80_hdf5/Zr94.h5\n",
      " Reading Zr92 from /home/husninaufalz/ND/endfb80_hdf5/Zr92.h5\n",
      " Reading Zr91 from /home/husninaufalz/ND/endfb80_hdf5/Zr91.h5\n",
      " Reading Zr96 from /home/husninaufalz/ND/endfb80_hdf5/Zr96.h5\n",
      " WARNING: Negative value(s) found on probability table for nuclide Zr96 at 294K\n",
      " Minimum neutron data temperature: 294.0 K\n",
      " Maximum neutron data temperature: 294.0 K\n",
      " Reading tallies XML file...\n",
      " Preparing distributed cell instances...\n",
      " Writing summary.h5 file...\n",
      " Maximum neutron transport energy: 20000000.0 eV for C13\n",
      "\n",
      " ===============>     FIXED SOURCE TRANSPORT SIMULATION     <===============\n",
      "\n",
      " Simulating batch 1\n",
      " Simulating batch 2\n",
      " Simulating batch 3\n",
      " Simulating batch 4\n",
      " Simulating batch 5\n",
      " Simulating batch 6\n",
      " Simulating batch 7\n",
      " Simulating batch 8\n",
      " Simulating batch 9\n",
      " Simulating batch 10\n",
      " Simulating batch 11\n",
      " Simulating batch 12\n",
      " Simulating batch 13\n",
      " Simulating batch 14\n",
      " Simulating batch 15\n",
      " Simulating batch 16\n",
      " Simulating batch 17\n",
      " Simulating batch 18\n",
      " Simulating batch 19\n",
      " Simulating batch 20\n",
      " Simulating batch 21\n",
      " Simulating batch 22\n",
      " Simulating batch 23\n",
      " Simulating batch 24\n",
      " Simulating batch 25\n",
      " Simulating batch 26\n",
      " Simulating batch 27\n",
      " Simulating batch 28\n",
      " Simulating batch 29\n",
      " Simulating batch 30\n",
      " Simulating batch 31\n",
      " Simulating batch 32\n",
      " Simulating batch 33\n",
      " Simulating batch 34\n",
      " Simulating batch 35\n",
      " Simulating batch 36\n",
      " Simulating batch 37\n",
      " Simulating batch 38\n",
      " Simulating batch 39\n",
      " Simulating batch 40\n",
      " Creating state point statepoint.40.h5...\n",
      "\n",
      " =======================>     TIMING STATISTICS     <=======================\n",
      "\n",
      " Total time for initialization     = 7.9169e+01 seconds\n",
      "   Reading cross sections          = 5.7078e+00 seconds\n",
      " Total time in simulation          = 1.7793e+03 seconds\n",
      "   Time in transport only          = 1.7792e+03 seconds\n",
      "   Time in active batches          = 1.7793e+03 seconds\n",
      "   Time accumulating tallies       = 6.5842e-02 seconds\n",
      "   Time writing statepoints        = 9.4404e-03 seconds\n",
      " Total time for finalization       = 2.9399e-04 seconds\n",
      " Total time elapsed                = 1.8584e+03 seconds\n",
      " Calculation Rate (active)         = 22.4812 particles/second\n",
      "\n",
      " ============================>     RESULTS     <============================\n",
      "\n",
      " Leakage Fraction            = 0.06114 +/- 0.00146\n",
      "\n"
     ]
    },
    {
     "data": {
      "text/plain": [
       "PosixPath('/home/husninaufalz/iter-tritium-breeding-xgboost/jupyter-notebooks/1-calculate-tbr/statepoint.40.h5')"
      ]
     },
     "execution_count": 19,
     "metadata": {},
     "output_type": "execute_result"
    }
   ],
   "source": [
    "# Calculate TBR Value\n",
    "my_model.simulate(export_h5m=False)\n",
    "# my_model.simulate()"
   ]
  },
  {
   "cell_type": "code",
   "execution_count": 17,
   "id": "f8a9cdec-645a-4e7d-8802-ffa29886ca20",
   "metadata": {},
   "outputs": [],
   "source": [
    "# %matplotlib inline\n",
    "# from IPython.display import Image\n",
    "# p = openmc.Plot()\n",
    "# p.basis = 'xz'\n",
    "# p.origin = (0.0, 0.0, 0.0)\n",
    "# p.width = (2000.0, 2000.0)\n",
    "# p.pixels = (400, 400)\n",
    "# p.color_by = 'cell'\n",
    "# openmc.plot_inline(p)"
   ]
  },
  {
   "cell_type": "code",
   "execution_count": 19,
   "id": "68fd9bb2-497d-41c8-a1c9-936671b03e22",
   "metadata": {},
   "outputs": [],
   "source": [
    "# open the results file\n",
    "sp = openmc.StatePoint('statepoint.' + str(simulation_batches) + '.h5')"
   ]
  },
  {
   "cell_type": "code",
   "execution_count": 20,
   "id": "f0996d74-0793-451f-a67a-769feeb9f7fe",
   "metadata": {},
   "outputs": [
    {
     "data": {
      "text/html": [
       "<div>\n",
       "<style scoped>\n",
       "    .dataframe tbody tr th:only-of-type {\n",
       "        vertical-align: middle;\n",
       "    }\n",
       "\n",
       "    .dataframe tbody tr th {\n",
       "        vertical-align: top;\n",
       "    }\n",
       "\n",
       "    .dataframe thead th {\n",
       "        text-align: right;\n",
       "    }\n",
       "</style>\n",
       "<table border=\"1\" class=\"dataframe\">\n",
       "  <thead>\n",
       "    <tr style=\"text-align: right;\">\n",
       "      <th></th>\n",
       "      <th>material</th>\n",
       "      <th>nuclide</th>\n",
       "      <th>score</th>\n",
       "      <th>mean</th>\n",
       "      <th>std. dev.</th>\n",
       "    </tr>\n",
       "  </thead>\n",
       "  <tbody>\n",
       "    <tr>\n",
       "      <th>0</th>\n",
       "      <td>24</td>\n",
       "      <td>total</td>\n",
       "      <td>(n,Xt)</td>\n",
       "      <td>6.964649e-11</td>\n",
       "      <td>3.023503e-13</td>\n",
       "    </tr>\n",
       "  </tbody>\n",
       "</table>\n",
       "</div>"
      ],
      "text/plain": [
       "   material nuclide   score     mean  std. dev.\n",
       "0        24   total  (n,Xt) 6.96e-11   3.02e-13"
      ]
     },
     "execution_count": 20,
     "metadata": {},
     "output_type": "execute_result"
    }
   ],
   "source": [
    "tbr_tally = sp.get_tally(scores=['(n,Xt)'])\n",
    "df = tbr_tally.get_pandas_dataframe()\n",
    "df"
   ]
  },
  {
   "cell_type": "code",
   "execution_count": 21,
   "id": "808db746-1029-4b95-a3cb-83faa9c49625",
   "metadata": {},
   "outputs": [],
   "source": [
    "tbr_tally_result = df['mean'].sum()"
   ]
  },
  {
   "cell_type": "code",
   "execution_count": 22,
   "id": "bda53cda-abd0-4948-b504-a7b072ab20ff",
   "metadata": {},
   "outputs": [
    {
     "name": "stdout",
     "output_type": "stream",
     "text": [
      "The tritium breeding ratio was found, TBR =  6.964649377034048e-11\n"
     ]
    }
   ],
   "source": [
    "# print result\n",
    "print('The tritium breeding ratio was found, TBR = ',tbr_tally_result)"
   ]
  },
  {
   "cell_type": "code",
   "execution_count": null,
   "id": "fc3ac4a2-f74a-4e5c-9201-3aa48aeaf676",
   "metadata": {},
   "outputs": [],
   "source": []
  }
 ],
 "metadata": {
  "kernelspec": {
   "display_name": "base",
   "language": "python",
   "name": "base"
  },
  "language_info": {
   "codemirror_mode": {
    "name": "ipython",
    "version": 3
   },
   "file_extension": ".py",
   "mimetype": "text/x-python",
   "name": "python",
   "nbconvert_exporter": "python",
   "pygments_lexer": "ipython3",
   "version": "3.8.10"
  }
 },
 "nbformat": 4,
 "nbformat_minor": 5
}
