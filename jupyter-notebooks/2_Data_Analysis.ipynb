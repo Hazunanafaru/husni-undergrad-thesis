{
 "cells": [
  {
   "cell_type": "markdown",
   "id": "figured-traffic",
   "metadata": {},
   "source": [
    "# Trial 2 Undergraduate Thesis\n",
    "Goal :\n",
    "- Create XGBoost and Linear Regresion Model\n",
    "- Get insights from the datas\n",
    "- Get the best blanket configuration\n",
    "\n",
    "Name : Husni Naufal Zuhdi (413821)"
   ]
  },
  {
   "cell_type": "code",
   "execution_count": null,
   "id": "designed-minnesota",
   "metadata": {},
   "outputs": [],
   "source": []
  }
 ],
 "metadata": {
  "kernelspec": {
   "display_name": "Python 3",
   "language": "python",
   "name": "python3"
  },
  "language_info": {
   "codemirror_mode": {
    "name": "ipython",
    "version": 3
   },
   "file_extension": ".py",
   "mimetype": "text/x-python",
   "name": "python",
   "nbconvert_exporter": "python",
   "pygments_lexer": "ipython3",
   "version": "3.7.8"
  }
 },
 "nbformat": 4,
 "nbformat_minor": 5
}
