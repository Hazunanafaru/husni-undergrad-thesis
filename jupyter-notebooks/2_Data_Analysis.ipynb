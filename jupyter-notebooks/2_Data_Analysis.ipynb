{
 "cells": [
  {
   "cell_type": "markdown",
   "id": "figured-traffic",
   "metadata": {},
   "source": [
    "# Trial 2 Undergraduate Thesis\n",
    "Goal :\n",
    "- Create XGBoost and Linear Regresion Model\n",
    "- Get insights from the datas\n",
    "- Get the best blanket configuration\n",
    "\n",
    "Name : Husni Naufal Zuhdi (413821)"
   ]
  },
  {
   "cell_type": "markdown",
   "id": "f05bccb7",
   "metadata": {},
   "source": [
    "## Regression exercise with XGBoost"
   ]
  },
  {
   "cell_type": "code",
   "execution_count": null,
   "id": "designed-minnesota",
   "metadata": {},
   "outputs": [],
   "source": [
    "# Import libraries with standard conventions\n",
    "import numpy as np\n",
    "import pandas as pd\n",
    "import xgboost as xgb\n",
    "from sklearn.metrics import r2_score\n",
    "from sklearn.metrics import mean_squared_error as mse\n",
    "from sklearn.datasets import load_boston\n",
    "from sklearn.model_selection import train_test_split\n",
    "from yellowbrick.regressor import residuals_plot\n",
    "from yellowbrick.regressor import prediction_error"
   ]
  },
  {
   "cell_type": "code",
   "execution_count": null,
   "id": "fea2d89b",
   "metadata": {},
   "outputs": [],
   "source": [
    "data = load_boston() # Loading the data"
   ]
  },
  {
   "cell_type": "code",
   "execution_count": null,
   "id": "03bbb778",
   "metadata": {
    "scrolled": true
   },
   "outputs": [],
   "source": [
    "see = pd.DataFrame(data.data)\n",
    "see #the dataset"
   ]
  },
  {
   "cell_type": "code",
   "execution_count": null,
   "id": "54031b05",
   "metadata": {},
   "outputs": [],
   "source": [
    "X = pd.DataFrame(data.data, columns=data.feature_names) # Feature matrix in pd.DataFrame format\n",
    "y = pd.Series(data.target) # Target vector in pd.Series format"
   ]
  },
  {
   "cell_type": "code",
   "execution_count": null,
   "id": "6a0ffb98",
   "metadata": {},
   "outputs": [],
   "source": [
    "# Making train and test sets for both X and y\n",
    "X_train, X_test, y_train, y_test = train_test_split(X,\n",
    "                                                    y,\n",
    "                                                    test_size=0.2, \n",
    "                                                    random_state=42,\n",
    "                                                    shuffle=True)"
   ]
  },
  {
   "cell_type": "code",
   "execution_count": null,
   "id": "9b518548",
   "metadata": {},
   "outputs": [],
   "source": [
    "# Instantiate an XGBoost object with hyperparameters\n",
    "xgb_reg = xgb.XGBRegressor(max_depth=3,\n",
    "                           n_estimators=100,\n",
    "                           n_jobs=2,\n",
    "                           objectvie='reg:squarederror',\n",
    "                           booster='gbtree',\n",
    "                           random_state=42,\n",
    "                           learning_rate=0.05)"
   ]
  },
  {
   "cell_type": "code",
   "execution_count": null,
   "id": "e0a1ee7e",
   "metadata": {},
   "outputs": [],
   "source": [
    "# Train the model with train data sets\n",
    "xgb_reg.fit(X_train, y_train)"
   ]
  },
  {
   "cell_type": "code",
   "execution_count": null,
   "id": "b68ce3a9",
   "metadata": {},
   "outputs": [],
   "source": []
  }
 ],
 "metadata": {
  "kernelspec": {
   "display_name": "Python 3 (ipykernel)",
   "language": "python",
   "name": "python3"
  },
  "language_info": {
   "codemirror_mode": {
    "name": "ipython",
    "version": 3
   },
   "file_extension": ".py",
   "mimetype": "text/x-python",
   "name": "python",
   "nbconvert_exporter": "python",
   "pygments_lexer": "ipython3",
   "version": "3.7.8"
  }
 },
 "nbformat": 4,
 "nbformat_minor": 5
}
